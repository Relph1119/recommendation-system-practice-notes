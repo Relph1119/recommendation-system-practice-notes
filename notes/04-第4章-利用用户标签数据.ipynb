{
 "cells": [
  {
   "cell_type": "markdown",
   "metadata": {
    "collapsed": true
   },
   "source": [
    "# 第4章 利用用户标签数据\n",
    "\n",
    "&emsp;&emsp;**标签**是一种无层次化结构的、用来描述信息的关键词，它可以用来描述物品的语义。根据给物品打标签的人的不同，标签应用一般分为两种：一种是让作者或专家给物品打标签；另一种是让普通用户给物品打标签，也就是UGC的标签应用。"
   ]
  },
  {
   "cell_type": "markdown",
   "metadata": {},
   "source": [
    "## UGC标签系统的代表应用\n",
    "\n",
    "- Delicious\n",
    "- CiteULike论文书签网站\n",
    "- Last.fm音乐网站\n",
    "- 豆瓣\n",
    "- Hulu视频网站\n",
    "\n",
    "标签系统的作用：  \n",
    "- 表达：标签系统帮助我表达对物品的看法\n",
    "- 组织：打标签帮助我组织我喜欢的电影\n",
    "- 学习：打标签帮助我对电影的了解\n",
    "- 发现：标签系统使我更容易发现喜欢的电影\n",
    "- 决策：标签系统帮助我判定是否看某一部电影"
   ]
  },
  {
   "cell_type": "markdown",
   "metadata": {},
   "source": [
    "## 标签系统中的推荐问题\n",
    "\n",
    "标签系统中的推荐问题主要有以下两个：\n",
    "- 如何利用用户打标签的行为，为其推荐物品（基于标签的推荐）？\n",
    "- 如何在用户给物品打标签时，为其推荐适合该物品的标签（标签推荐）？\n",
    "\n",
    "### 用户为什么进行标注\n",
    "\n",
    "用户标注的动机：\n",
    "- 社会维度：给内容上传者使用的（便于上传者组织自己的信息）；给广大用户使用的（便于帮助其他用户找到信息）\n",
    "- 功能维度：用于更好地组织内容，方便用户将来的查找；传达某种信息，比如照片拍摄的时间和地点 "
   ]
  },
  {
   "cell_type": "markdown",
   "metadata": {},
   "source": [
    "### 用户如何打标签"
   ]
  },
  {
   "cell_type": "code",
   "execution_count": 1,
   "metadata": {},
   "outputs": [],
   "source": [
    "import os, sys\n",
    "import pandas as pd\n",
    "import numpy as np\n",
    "import matplotlib.pyplot as plt\n",
    "import seaborn as sns\n",
    "%matplotlib inline\n",
    "\n",
    "PROJECT_ROOT = os.path.dirname(sys.path[0])"
   ]
  },
  {
   "cell_type": "code",
   "execution_count": 2,
   "metadata": {},
   "outputs": [
    {
     "data": {
      "text/plain": [
       "437593"
      ]
     },
     "execution_count": 2,
     "metadata": {},
     "output_type": "execute_result"
    }
   ],
   "source": [
    "from main.util import delicious_reader\n",
    "\n",
    "delicious_path = os.path.join(PROJECT_ROOT, \n",
    "                              \"src/data/delicious-2k/user_taggedbookmarks-timestamps.dat\")\n",
    "\n",
    "data, _ = delicious_reader.split_data(filename=delicious_path, cv_folder=10, k=20)\n",
    "len(data)"
   ]
  },
  {
   "cell_type": "code",
   "execution_count": 3,
   "metadata": {},
   "outputs": [],
   "source": [
    "def tag_popularity(data):\n",
    "    tags = dict()\n",
    "\n",
    "    for user_id, bookmark_id, tag_id in data:\n",
    "        tags[tag_id] = tags.get(tag_id, 0) + 1\n",
    "\n",
    "    counts = list(tags.values())\n",
    "    freqs = set(counts)\n",
    "\n",
    "    tag_counts = dict()\n",
    "\n",
    "    for freq in freqs:\n",
    "        tag_counts[freq] = counts.count(freq)\n",
    "    return tag_counts"
   ]
  },
  {
   "cell_type": "code",
   "execution_count": 4,
   "metadata": {},
   "outputs": [
    {
     "data": {
      "image/png": "[encoded data removed]",
      "text/plain": [
       "<Figure size 720x432 with 1 Axes>"
      ]
     },
     "metadata": {},
     "output_type": "display_data"
    }
   ],
   "source": [
    "tag_freq = tag_popularity(data)\n",
    "\n",
    "sns.set_style(\"whitegrid\")\n",
    "plt.figure(figsize=(10, 6))\n",
    "\n",
    "popularity = np.log1p(list(tag_freq.keys()))\n",
    "popularity_time = np.log1p(list(tag_freq.values()))\n",
    "\n",
    "plt.scatter(popularity, popularity_time)\n",
    "plt.title(\"Log Popularity of Tags\")\n",
    "plt.xlabel(\"Log Popularity\")\n",
    "plt.ylabel(\"Log Popularity Time\")\n",
    "\n",
    "plt.show()"
   ]
  },
  {
   "cell_type": "markdown",
   "metadata": {},
   "source": [
    "### 用户打什么样的标签\n",
    "\n",
    "- 表明物品是什么\n",
    "- 表明物品的种类\n",
    "- 表明谁拥有物品\n",
    "- 表达用户的观点\n",
    "- 用户相关的标签\n",
    "- 用户的任务"
   ]
  },
  {
   "cell_type": "markdown",
   "metadata": {},
   "source": [
    "## 基于标签的推荐系统\n",
    "\n",
    "&emsp;&emsp;一个用户标签行为的数据集一般由一个三元组的集合表示，其中记录$(u,i,b)$表示用户$u$给物品$i$打上了标签$b$。\n",
    "\n",
    "### 实验设置\n",
    "多样性：  \n",
    "&emsp;&emsp;用物品标签向量的余弦相似度度量物品之间的相似度。对于每个物品$i$，item_tag[i]存储了物品$i$的标签向量，其中item_tag[i][b]是对物品$i$打标签$b$的次数，那么物品$i$和$j$的余弦相似度如下："
   ]
  },
  {
   "cell_type": "code",
   "execution_count": 5,
   "metadata": {},
   "outputs": [],
   "source": [
    "import math\n",
    "\n",
    "def cosine_sim(item_tags, i, j):\n",
    "    ret = 0\n",
    "    for b, wib in item_tags[i].items():\n",
    "        if b in item_tags[j].items():\n",
    "            ret += wib * item_tags[j][b]\n",
    "    \n",
    "    n_i = 0\n",
    "    n_j = 0\n",
    "    for b, w in item_tags[i].items():\n",
    "        n_i += w * w\n",
    "    for b, w in item_tags[j].items():\n",
    "        n_j += w * w\n",
    "        \n",
    "    if ret==0:\n",
    "        return 0\n",
    "    return ret / math.sqrt(n_i * n_j)"
   ]
  },
  {
   "cell_type": "markdown",
   "metadata": {},
   "source": [
    "得到物品之间的相似度度量后，通过下面公式计算一个推荐列表的多样性：$$\\text{Diversity} = 1 - \\frac{\\displaystyle \\sum_{i \\in R(u)}\\sum_{j \\in R(u), j \\neq i} \\text{Sim}(\\text{item_tag}[i], \\text{item_tag}[j])}{\\left\\lgroup\\begin{array}{c} |R(u)| \\\\ 2\\end{array}\\right\\rgroup}$$"
   ]
  },
  {
   "cell_type": "code",
   "execution_count": 6,
   "metadata": {},
   "outputs": [],
   "source": [
    "def diversity(item_tags, recommend_items):\n",
    "    ret = 0\n",
    "    n = 0\n",
    "    for i in recommend_items.keys():\n",
    "        for j in recommend_items.keys():\n",
    "            if i == j:\n",
    "                continue\n",
    "            ret += cosine_sim(item_tags, i, j)\n",
    "            n += 1\n",
    "    \n",
    "    return ret / (n * 1.0)"
   ]
  },
  {
   "cell_type": "markdown",
   "metadata": {},
   "source": [
    "推荐结果的新颖性，用推荐结果的平均热门程度（AveragePopularity）度量。对于物品$i$，它的流行度item_pop[i]表示对这个物品打过标签的用户数，平均热门程度的公式如下：$$\\text{AveragePopularity}=\\frac{\\displaystyle \\sum_u \\sum_{i \\in R(u)} \\log(1 + \\text{item_pop}(i))}{\\displaystyle \\sum_u \\sum_{i \\in R(u)} 1}$$"
   ]
  },
  {
   "cell_type": "markdown",
   "metadata": {},
   "source": [
    "### 一个最简单的算法\n",
    "\n",
    "该算法描述如下：  \n",
    "1. 统计每个用户最常用的标签\n",
    "2. 对于每个标签，统计被打过这个标签次数最多的物品\n",
    "3. 对于一个用户，首先找到他常用的标签，然后找到具有这些标签的最热门物品，推荐给这个用户\n",
    "\n",
    "用户$u$对物品$i$的兴趣公式如下：$$p(u,i)=\\sum_b n_{u,b} n_{b,j}$$其中，$B(u)$是用户$u$打过的标签集合，$B(i)$是物品$i$被打过的标签集合，$n_{u,b}$是用户$u$打过标签$b$的次数，$n_{b,i}$是物品$i$被打过标签$b$的次数。"
   ]
  },
  {
   "cell_type": "code",
   "execution_count": 7,
   "metadata": {},
   "outputs": [
    {
     "name": "stdout",
     "output_type": "stream",
     "text": [
      "Len Train : 397695, Len Test : 39898\n"
     ]
    }
   ],
   "source": [
    "origin_train, origin_test = delicious_reader.split_data(\n",
    "    filename=delicious_path, k=1, cv_folder=10)\n",
    "\n",
    "print(\"Len Train : %s, Len Test : %s\" % (len(origin_train), len(origin_test)))"
   ]
  },
  {
   "cell_type": "code",
   "execution_count": 8,
   "metadata": {},
   "outputs": [],
   "source": [
    "from main.chapter4.simple_tag_based import SimpleTagBased\n",
    "\n",
    "base_model = SimpleTagBased()\n",
    "base_model.train(origin_train)"
   ]
  },
  {
   "cell_type": "code",
   "execution_count": 9,
   "metadata": {},
   "outputs": [],
   "source": [
    "test = dict()\n",
    "for user_id, item_id, tag_id in origin_test:\n",
    "    test.setdefault(user_id,[])\n",
    "    test[user_id].append(item_id)"
   ]
  },
  {
   "cell_type": "code",
   "execution_count": 10,
   "metadata": {},
   "outputs": [],
   "source": [
    "# 找出所有商品ID（用于计算覆盖率）\n",
    "all_items = set()\n",
    "\n",
    "for user_id, item_id, tag_id in origin_train:\n",
    "    all_items.add(item_id)\n",
    "for user_id, item_id, tag_id in origin_test:\n",
    "    all_items.add(item_id)"
   ]
  },
  {
   "cell_type": "code",
   "execution_count": 11,
   "metadata": {},
   "outputs": [],
   "source": [
    "recommend_count = 20\n",
    "\n",
    "recommend_users = list(test.keys())\n",
    "recommends = base_model.recommend_users(\n",
    "                users=recommend_users,\n",
    "                recommend_count=recommend_count\n",
    ")"
   ]
  },
  {
   "cell_type": "code",
   "execution_count": 12,
   "metadata": {},
   "outputs": [
    {
     "data": {
      "text/html": [
       "<div>\n",
       "<style scoped>\n",
       "    .dataframe tbody tr th:only-of-type {\n",
       "        vertical-align: middle;\n",
       "    }\n",
       "\n",
       "    .dataframe tbody tr th {\n",
       "        vertical-align: top;\n",
       "    }\n",
       "\n",
       "    .dataframe thead th {\n",
       "        text-align: right;\n",
       "    }\n",
       "</style>\n",
       "<table border=\"1\" class=\"dataframe\">\n",
       "  <thead>\n",
       "    <tr style=\"text-align: right;\">\n",
       "      <th></th>\n",
       "      <th>Precision</th>\n",
       "      <th>Recall</th>\n",
       "      <th>Coverage</th>\n",
       "      <th>Popularity</th>\n",
       "    </tr>\n",
       "  </thead>\n",
       "  <tbody>\n",
       "    <tr>\n",
       "      <th>SimpleTagBased</th>\n",
       "      <td>0.00044</td>\n",
       "      <td>0.000396</td>\n",
       "      <td>0.061945</td>\n",
       "      <td>3.764438</td>\n",
       "    </tr>\n",
       "  </tbody>\n",
       "</table>\n",
       "</div>"
      ],
      "text/plain": [
       "                Precision    Recall  Coverage  Popularity\n",
       "SimpleTagBased    0.00044  0.000396  0.061945    3.764438"
      ]
     },
     "execution_count": 12,
     "metadata": {},
     "output_type": "execute_result"
    }
   ],
   "source": [
    "from main.util import metric\n",
    "\n",
    "simple_tag_based_evals = metric.tag_evaluation(origin_train, test, all_items, recommends)\n",
    "\n",
    "pd.DataFrame(\n",
    "        data = [simple_tag_based_evals],\n",
    "        index = [\"SimpleTagBased\"],\n",
    "        columns = [\"Precision\",\"Recall\",\"Coverage\",\"Popularity\"]\n",
    ")"
   ]
  },
  {
   "cell_type": "markdown",
   "metadata": {},
   "source": [
    "### 算法的改进\n",
    "\n",
    "简单算法公式预测用户$u$对物品$i$的兴趣：$$p(u,i)=\\sum_b n_{u,b} n_{b,i}$$这个公式倾向于给热门标签对应的热门物品很大的权重，因此会造成推荐热门的物品给用户，从而降低推荐结果的新颖性。该公式利用用户的标签向量对用户兴趣建模，其中每个标签都是用户使用过的标签，而权重是用户使用该标签的次数，这样就给热门标签过大的权重，导致不能反映用户个性化的兴趣。  \n",
    "\n",
    "#### TagBasedTFIDF算法\n",
    "$$p(u,i)=\\sum_b \\frac{n_{u,b}}{\\log(1+n_b^{(u)})}n_{b,i}$$其中，$n_b^{(u)}$记录了标签b被多少个不同的用户使用过。"
   ]
  },
  {
   "cell_type": "code",
   "execution_count": 13,
   "metadata": {},
   "outputs": [],
   "source": [
    "from main.chapter4.tag_based_tfidf import TagBasedTFIDF\n",
    "\n",
    "tfidf_model = TagBasedTFIDF()\n",
    "tfidf_model.train(origin_data=origin_train)"
   ]
  },
  {
   "cell_type": "code",
   "execution_count": 14,
   "metadata": {},
   "outputs": [],
   "source": [
    "test = dict()\n",
    "for user_id, item_id, tag_id in origin_test:\n",
    "    test.setdefault(user_id, [])\n",
    "    test[user_id].append(item_id)\n",
    "    \n",
    "test = {user_id : set(items) for user_id, items in test.items()}"
   ]
  },
  {
   "cell_type": "code",
   "execution_count": 15,
   "metadata": {},
   "outputs": [],
   "source": [
    "# 找出所有商品（用于计算覆盖率）\n",
    "all_items = set()\n",
    "\n",
    "for user_id, item_id, tag_id in origin_train:\n",
    "    all_items.add(item_id)\n",
    "for user_id, item_id, tag_id in origin_test:\n",
    "    all_items.add(item_id)"
   ]
  },
  {
   "cell_type": "code",
   "execution_count": 16,
   "metadata": {},
   "outputs": [],
   "source": [
    "recommend_count = 20\n",
    "\n",
    "recommend_users = list(test.keys())\n",
    "recommends = tfidf_model.recommend_users(\n",
    "                users=recommend_users,\n",
    "                recommend_count=recommend_count\n",
    ")"
   ]
  },
  {
   "cell_type": "code",
   "execution_count": 17,
   "metadata": {},
   "outputs": [
    {
     "data": {
      "text/html": [
       "<div>\n",
       "<style scoped>\n",
       "    .dataframe tbody tr th:only-of-type {\n",
       "        vertical-align: middle;\n",
       "    }\n",
       "\n",
       "    .dataframe tbody tr th {\n",
       "        vertical-align: top;\n",
       "    }\n",
       "\n",
       "    .dataframe thead th {\n",
       "        text-align: right;\n",
       "    }\n",
       "</style>\n",
       "<table border=\"1\" class=\"dataframe\">\n",
       "  <thead>\n",
       "    <tr style=\"text-align: right;\">\n",
       "      <th></th>\n",
       "      <th>Precision</th>\n",
       "      <th>Recall</th>\n",
       "      <th>Coverage</th>\n",
       "      <th>Popularity</th>\n",
       "    </tr>\n",
       "  </thead>\n",
       "  <tbody>\n",
       "    <tr>\n",
       "      <th>SimpleTagBased</th>\n",
       "      <td>0.000440</td>\n",
       "      <td>0.000396</td>\n",
       "      <td>0.061945</td>\n",
       "      <td>3.764438</td>\n",
       "    </tr>\n",
       "    <tr>\n",
       "      <th>TagBasedTFIDF</th>\n",
       "      <td>0.000472</td>\n",
       "      <td>0.000424</td>\n",
       "      <td>0.090317</td>\n",
       "      <td>3.632179</td>\n",
       "    </tr>\n",
       "  </tbody>\n",
       "</table>\n",
       "</div>"
      ],
      "text/plain": [
       "                Precision    Recall  Coverage  Popularity\n",
       "SimpleTagBased   0.000440  0.000396  0.061945    3.764438\n",
       "TagBasedTFIDF    0.000472  0.000424  0.090317    3.632179"
      ]
     },
     "execution_count": 17,
     "metadata": {},
     "output_type": "execute_result"
    }
   ],
   "source": [
    "from main.util import metric\n",
    "\n",
    "tfidf_evals = metric.tag_evaluation(origin_train, test, all_items, recommends)\n",
    "\n",
    "pd.DataFrame(\n",
    "        data = [simple_tag_based_evals, tfidf_evals],\n",
    "        index = [\"SimpleTagBased\", \"TagBasedTFIDF\"],\n",
    "        columns = [\"Precision\",\"Recall\",\"Coverage\",\"Popularity\"]\n",
    ")"
   ]
  },
  {
   "cell_type": "markdown",
   "metadata": {},
   "source": [
    "#### TagBasedTFIDF++算法：\n",
    "$$p(u,i)=\\sum_b \\frac{n_{u,b}}{\\log(1+n_b^{(u)})} \\frac{n_{b,i}}{\\log(1+n_i^{(u)})}$$其中，$n_i^{(u)}$记录了物品$i$被多少个不同的用户打过标签。"
   ]
  },
  {
   "cell_type": "code",
   "execution_count": 18,
   "metadata": {},
   "outputs": [],
   "source": [
    "from main.chapter4.tag_based_tfidf_plus import TagBasedTFIDFPlus\n",
    "\n",
    "tfidf_plus_model = TagBasedTFIDFPlus()\n",
    "tfidf_plus_model.train(origin_data=origin_train)"
   ]
  },
  {
   "cell_type": "code",
   "execution_count": 19,
   "metadata": {},
   "outputs": [],
   "source": [
    "test = dict()\n",
    "for user_id, item_id, tag_id in origin_test:\n",
    "    test.setdefault(user_id,[])\n",
    "    test[user_id].append(item_id)\n",
    "    \n",
    "test = {user_id : set(items) for user_id, items in test.items()}"
   ]
  },
  {
   "cell_type": "code",
   "execution_count": 20,
   "metadata": {},
   "outputs": [],
   "source": [
    "# 找出所有商品（用于计算覆盖率）\n",
    "all_items = set()\n",
    "\n",
    "for user_id, item_id, tag_id in origin_train:\n",
    "    all_items.add(item_id)\n",
    "for user_id, item_id, tag_id in origin_test:\n",
    "    all_items.add(item_id)"
   ]
  },
  {
   "cell_type": "code",
   "execution_count": 21,
   "metadata": {},
   "outputs": [],
   "source": [
    "recommend_count = 20\n",
    "\n",
    "recommend_users = list(test.keys())\n",
    "recommends = tfidf_plus_model.recommend_users(\n",
    "                users=recommend_users,\n",
    "                recommend_count=recommend_count\n",
    ")"
   ]
  },
  {
   "cell_type": "code",
   "execution_count": 22,
   "metadata": {},
   "outputs": [
    {
     "data": {
      "text/html": [
       "<div>\n",
       "<style scoped>\n",
       "    .dataframe tbody tr th:only-of-type {\n",
       "        vertical-align: middle;\n",
       "    }\n",
       "\n",
       "    .dataframe tbody tr th {\n",
       "        vertical-align: top;\n",
       "    }\n",
       "\n",
       "    .dataframe thead th {\n",
       "        text-align: right;\n",
       "    }\n",
       "</style>\n",
       "<table border=\"1\" class=\"dataframe\">\n",
       "  <thead>\n",
       "    <tr style=\"text-align: right;\">\n",
       "      <th></th>\n",
       "      <th>Precision</th>\n",
       "      <th>Recall</th>\n",
       "      <th>Coverage</th>\n",
       "      <th>Popularity</th>\n",
       "    </tr>\n",
       "  </thead>\n",
       "  <tbody>\n",
       "    <tr>\n",
       "      <th>SimpleTagBased</th>\n",
       "      <td>0.000440</td>\n",
       "      <td>0.000396</td>\n",
       "      <td>0.061945</td>\n",
       "      <td>3.764438</td>\n",
       "    </tr>\n",
       "    <tr>\n",
       "      <th>TagBasedTFIDF</th>\n",
       "      <td>0.000472</td>\n",
       "      <td>0.000424</td>\n",
       "      <td>0.090317</td>\n",
       "      <td>3.632179</td>\n",
       "    </tr>\n",
       "    <tr>\n",
       "      <th>TagBasedTFIDFPlus</th>\n",
       "      <td>0.000440</td>\n",
       "      <td>0.000396</td>\n",
       "      <td>0.176632</td>\n",
       "      <td>2.767007</td>\n",
       "    </tr>\n",
       "  </tbody>\n",
       "</table>\n",
       "</div>"
      ],
      "text/plain": [
       "                   Precision    Recall  Coverage  Popularity\n",
       "SimpleTagBased      0.000440  0.000396  0.061945    3.764438\n",
       "TagBasedTFIDF       0.000472  0.000424  0.090317    3.632179\n",
       "TagBasedTFIDFPlus   0.000440  0.000396  0.176632    2.767007"
      ]
     },
     "execution_count": 22,
     "metadata": {},
     "output_type": "execute_result"
    }
   ],
   "source": [
    "from main.util import metric\n",
    "\n",
    "tfidf_plus_evals = metric.tag_evaluation(origin_train, test, all_items, recommends)\n",
    "\n",
    "pd.DataFrame(\n",
    "        data = [simple_tag_based_evals, tfidf_evals, tfidf_plus_evals],\n",
    "        index = [\"SimpleTagBased\", \"TagBasedTFIDF\", \"TagBasedTFIDFPlus\"],\n",
    "        columns = [\"Precision\",\"Recall\",\"Coverage\",\"Popularity\"]\n",
    ")"
   ]
  },
  {
   "cell_type": "markdown",
   "metadata": {},
   "source": [
    "#### 数据稀疏性\n",
    "\n",
    "&emsp;&emsp;对于新用户或者新物品，集合（$B(u) \\cap B(i)$）中的标签数量会很少。为了提高推荐的准确率，可能要对标签集合做扩展。  \n",
    "&emsp;&emsp;标签扩展的本质是对每个标签找到和它相似的标签，也就是计算标签之间的相似度。如果认为同一个物品上的不同标签具有某种相似度，那么当两个标签同时出现在很多物品的标签集合中时，可以认为这两个标签具有较大的相似度。  \n",
    "对于标签b，令$N(b)$为有标签b的物品的集合，$n_{b,i}$为给物品$i$打上标签$b$的用户数，可以通过余弦相似度公式计算标签$b$和标签$b'$的相似度：$$\\text{sim}(b, b')=\\frac{\\displaystyle \\sum_{i \\in N(b) \\cap N(b') } n_{b,i} n_{b',i}}{\\displaystyle \\sqrt{\\sum_{i \\in N(b)} n_{b,i}^2 \\sum_{i \\in N(b')} n_{b',i}^2}}$$"
   ]
  },
  {
   "cell_type": "code",
   "execution_count": 23,
   "metadata": {},
   "outputs": [],
   "source": [
    "from main.chapter4.tag_based_tfidf_plus_sim import SimTagTFIDF\n",
    "\n",
    "sim_tag_tfidf_model = SimTagTFIDF()\n",
    "sim_tag_tfidf_model.train(origin_train)"
   ]
  },
  {
   "cell_type": "code",
   "execution_count": 24,
   "metadata": {},
   "outputs": [],
   "source": [
    "similarity_matrix = sim_tag_tfidf_model.tag_vec_report(tops=30)"
   ]
  },
  {
   "cell_type": "code",
   "execution_count": 25,
   "metadata": {},
   "outputs": [
    {
     "data": {
      "image/png": "[encoded data removed]",
      "text/plain": [
       "<Figure size 720x576 with 2 Axes>"
      ]
     },
     "metadata": {},
     "output_type": "display_data"
    }
   ],
   "source": [
    "import seaborn as sns\n",
    "sns.set_style(\"whitegrid\")\n",
    "plt.figure(figsize=(10,8))\n",
    "\n",
    "plt.title(\"Tag Similarity Heat Maps\")\n",
    "plt.xlabel(\"Tags\")\n",
    "plt.ylabel(\"Tags\")\n",
    "sns.heatmap(similarity_matrix,cmap=plt.cm.Blues,)\n",
    "\n",
    "plt.show()"
   ]
  },
  {
   "cell_type": "code",
   "execution_count": 26,
   "metadata": {},
   "outputs": [],
   "source": [
    "test = dict()\n",
    "for user_id, item_id, tag_id in origin_test:\n",
    "    test.setdefault(user_id,[])\n",
    "    test[user_id].append(item_id)\n",
    "    \n",
    "test = {user_id : set(items) for user_id, items in test.items()}"
   ]
  },
  {
   "cell_type": "code",
   "execution_count": 27,
   "metadata": {},
   "outputs": [],
   "source": [
    "# 找出所有商品（用于计算覆盖率）\n",
    "all_items = set()\n",
    "\n",
    "for user_id, item_id, tag_id in origin_train:\n",
    "    all_items.add(item_id)\n",
    "for user_id, item_id, tag_id in origin_test:\n",
    "    all_items.add(item_id)"
   ]
  },
  {
   "cell_type": "code",
   "execution_count": 28,
   "metadata": {},
   "outputs": [],
   "source": [
    "recommend_count = 20\n",
    "\n",
    "recommend_users = list(test.keys())\n",
    "recommends = sim_tag_tfidf_model.recommend_users(\n",
    "                users=recommend_users,\n",
    "                recommend_count= recommend_count\n",
    ")"
   ]
  },
  {
   "cell_type": "code",
   "execution_count": 29,
   "metadata": {},
   "outputs": [
    {
     "data": {
      "text/html": [
       "<div>\n",
       "<style scoped>\n",
       "    .dataframe tbody tr th:only-of-type {\n",
       "        vertical-align: middle;\n",
       "    }\n",
       "\n",
       "    .dataframe tbody tr th {\n",
       "        vertical-align: top;\n",
       "    }\n",
       "\n",
       "    .dataframe thead th {\n",
       "        text-align: right;\n",
       "    }\n",
       "</style>\n",
       "<table border=\"1\" class=\"dataframe\">\n",
       "  <thead>\n",
       "    <tr style=\"text-align: right;\">\n",
       "      <th></th>\n",
       "      <th>Precision</th>\n",
       "      <th>Recall</th>\n",
       "      <th>Coverage</th>\n",
       "      <th>Popularity</th>\n",
       "    </tr>\n",
       "  </thead>\n",
       "  <tbody>\n",
       "    <tr>\n",
       "      <th>SimpleTagBased</th>\n",
       "      <td>0.000440</td>\n",
       "      <td>0.000396</td>\n",
       "      <td>0.061945</td>\n",
       "      <td>3.764438</td>\n",
       "    </tr>\n",
       "    <tr>\n",
       "      <th>TagBasedTFIDF</th>\n",
       "      <td>0.000472</td>\n",
       "      <td>0.000424</td>\n",
       "      <td>0.090317</td>\n",
       "      <td>3.632179</td>\n",
       "    </tr>\n",
       "    <tr>\n",
       "      <th>TagBasedTFIDFPlus</th>\n",
       "      <td>0.000440</td>\n",
       "      <td>0.000396</td>\n",
       "      <td>0.176632</td>\n",
       "      <td>2.767007</td>\n",
       "    </tr>\n",
       "    <tr>\n",
       "      <th>SimTagTFIDF</th>\n",
       "      <td>0.000440</td>\n",
       "      <td>0.000395</td>\n",
       "      <td>0.177311</td>\n",
       "      <td>2.766880</td>\n",
       "    </tr>\n",
       "  </tbody>\n",
       "</table>\n",
       "</div>"
      ],
      "text/plain": [
       "                   Precision    Recall  Coverage  Popularity\n",
       "SimpleTagBased      0.000440  0.000396  0.061945    3.764438\n",
       "TagBasedTFIDF       0.000472  0.000424  0.090317    3.632179\n",
       "TagBasedTFIDFPlus   0.000440  0.000396  0.176632    2.767007\n",
       "SimTagTFIDF         0.000440  0.000395  0.177311    2.766880"
      ]
     },
     "execution_count": 29,
     "metadata": {},
     "output_type": "execute_result"
    }
   ],
   "source": [
    "from main.util import metric\n",
    "\n",
    "sim_tag_tfidf_evals = metric.tag_evaluation(origin_train, test, all_items, recommends)\n",
    "\n",
    "pd.DataFrame(\n",
    "        data = [simple_tag_based_evals, tfidf_evals, tfidf_plus_evals, sim_tag_tfidf_evals],\n",
    "        index = [\"SimpleTagBased\", \"TagBasedTFIDF\", \"TagBasedTFIDFPlus\", \"SimTagTFIDF\"],\n",
    "        columns = [\"Precision\",\"Recall\",\"Coverage\",\"Popularity\"]\n",
    ")"
   ]
  },
  {
   "cell_type": "markdown",
   "metadata": {},
   "source": [
    "#### 标签清理\n",
    "\n",
    "标签清理的原因：会出现词形不同、词义相同的标签，需要将标签作为推荐解释。  \n",
    "标签清理的方法：\n",
    "- 去除词频很高的停止词\n",
    "- 去除因词根不同造成的同义词\n",
    "- 去除因分隔符造成的同义词"
   ]
  },
  {
   "cell_type": "markdown",
   "metadata": {},
   "source": [
    "### 基于图的推荐算法\n",
    "\n",
    "&emsp;&emsp;在用户标签数据集上，有3中不同的元素，即用户、物品和标签，可以定义3种顶点，这是一个用户-物品-标签图。再采用第2章的PersonalRank算法，计算所有物品节点相对于当前用户节点在图上的相关性，然后按照相关性从大到小的排序，给用户推荐排名最高的N个物品。"
   ]
  },
  {
   "cell_type": "markdown",
   "metadata": {},
   "source": [
    "### 基于标签的推荐解释\n",
    "\n",
    "以豆瓣的标签云为例：\n",
    "1. 提供了推荐结果的多样性，展示了用户的所有兴趣，然后让用户自己根据他今天的兴趣选择相关的标签，得到推荐结果，从而极大地提高了推荐结果的多样性。\n",
    "2. 提供了推荐解释功能，用户通过界面可以知道豆瓣给自己推荐的每一本书，都是基于它认为自己对某个标签感兴趣。\n",
    "\n",
    "Jesse Vig对基于标签的解释得到的结论：\n",
    "- 用户对标签的兴趣，对帮助用户理解为什么给他推荐某个物品更有帮助\n",
    "- 用户对标签的兴趣和物品标签相关度，对于帮助用户判定自己是否喜欢被推荐物品具有同样的作用\n",
    "- 物品标签相关度，对于帮助用户判定被推荐物品是否符合他当前的兴趣更有帮助\n",
    "- 客观事实类标签相比主观感受类标签，对用户更有作用"
   ]
  },
  {
   "cell_type": "markdown",
   "metadata": {},
   "source": [
    "## 给用户推荐标签\n",
    "\n",
    "### 为什么要给用户推荐标签\n",
    "- 方便用户输入标签\n",
    "- 提高标签质量"
   ]
  },
  {
   "cell_type": "markdown",
   "metadata": {},
   "source": [
    "### 如何给用户推荐标签\n",
    "\n",
    "用户$u$给物品$i$打标签时，有以下方法给用户推荐和物品$i$相关的标签：  \n",
    "0. PopularTags算法：给用户$u$推荐整个系统里最热门的标签"
   ]
  },
  {
   "cell_type": "code",
   "execution_count": 2,
   "metadata": {},
   "outputs": [],
   "source": [
    "def popular_tags(user, item, tags, N):\n",
    "    return sorted(tags.items(), key=itemgetter(1), reverse=True)[0:N]"
   ]
  },
  {
   "cell_type": "markdown",
   "metadata": {},
   "source": [
    "1. ItemPopularTags算法：给用户$u$推荐物品$i$上最热门的标签"
   ]
  },
  {
   "cell_type": "code",
   "execution_count": 3,
   "metadata": {},
   "outputs": [],
   "source": [
    "def item_popular_tags(user, item, item_tags, N):\n",
    "    return sorted(item_tags[item].items(), key=itemgetter(1), reverse=True)[0:N]"
   ]
  },
  {
   "cell_type": "markdown",
   "metadata": {},
   "source": [
    "2. UserPopularTags算法：给用户$u$推荐他自己经常使用的标签"
   ]
  },
  {
   "cell_type": "code",
   "execution_count": 4,
   "metadata": {},
   "outputs": [],
   "source": [
    "def user_popular_tags(user, item, user_tags, N):\n",
    "    return sorted(user_tags[user].items(), key=itemgetter(1), reverse=True)[0:N]"
   ]
  },
  {
   "cell_type": "markdown",
   "metadata": {},
   "source": [
    "3. HybridPopularTags算法：融合前面两种算法，通过一个系数将上面的推荐结果线性加权，生成最终的推荐结果。"
   ]
  },
  {
   "cell_type": "code",
   "execution_count": 5,
   "metadata": {},
   "outputs": [],
   "source": [
    "def hybrid_popular_tags(user, item, user_tags, item_tags, alpha, N):\n",
    "    max_user_tag_weight = max(user_tags[user].values())\n",
    "    for tag, weight in user_tags[user].items():\n",
    "        ret[tag] = (1 - alpha) * weight / max_user_tag_weight\n",
    "        \n",
    "    max_item_tag_weight = max(item_tags[item].values())\n",
    "    for tag, weight in item_tags[item].items():\n",
    "        if tag not in ret:\n",
    "            ret[tag] = alpha * weight / max_item_tag_weight\n",
    "        else:\n",
    "            ret[tag] += alpha * weight / max_item_tag_weight\n",
    "    \n",
    "    return sorted(ret[user].items(), key=itemgetter(1), reverse=True)[0:N]"
   ]
  },
  {
   "cell_type": "markdown",
   "metadata": {},
   "source": [
    "### 基于图的标签推荐算法\n",
    "\n",
    "定义顶点的启动概率：$$r_{v(k)}=\\left\\{ \n",
    "\\begin{array}{c} \n",
    "\\alpha(v(k)=v(u)) \\\\\n",
    "1 - \\alpha(v(k) = v(i)) \\\\\n",
    "0 \\quad (\\text{其他})\n",
    "\\end{array} \\right.$$只有用户$u$和物品$i$对应的顶点有非0的启动概率，而其他顶点的启动概率都为0。"
   ]
  }
 ],
 "metadata": {
  "kernelspec": {
   "display_name": "Python 3",
   "language": "python",
   "name": "python3"
  },
  "language_info": {
   "codemirror_mode": {
    "name": "ipython",
    "version": 3
   },
   "file_extension": ".py",
   "mimetype": "text/x-python",
   "name": "python",
   "nbconvert_exporter": "python",
   "pygments_lexer": "ipython3",
   "version": "3.7.2"
  },
  "toc": {
   "base_numbering": "4",
   "nav_menu": {},
   "number_sections": true,
   "sideBar": true,
   "skip_h1_title": false,
   "title_cell": "Table of Contents",
   "title_sidebar": "Contents",
   "toc_cell": false,
   "toc_position": {},
   "toc_section_display": true,
   "toc_window_display": false
  }
 },
 "nbformat": 4,
 "nbformat_minor": 1
}
