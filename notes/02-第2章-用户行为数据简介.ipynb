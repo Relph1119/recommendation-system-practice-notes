{
 "cells": [
  {
   "cell_type": "markdown",
   "metadata": {
    "collapsed": true
   },
   "source": [
    "# 第2章 利用用户行为数据\n",
    "\n",
    "&emsp;&emsp;基于用户行为分析的推荐算法是个性化推荐系统的重要算法，这种类型的算法称为协同过滤算法。协同过滤是指用户可以齐心协力，通过不断地和网站互动，使自己的推荐列表能够不断过滤掉自己不感兴趣的物品，从而越来越满足自己的需求。\n",
    "\n",
    "## 用户行为数据简介\n",
    "&emsp;&emsp;用户行为数据在网站上最简单的存在形式就是日志。把多种原始日志按照用户行为汇总成会话日志（session log），其中每个会话表示一次用户行为和对应的服务，会话日志通常存储在分布式数据仓库中。  \n",
    "&emsp;&emsp;用户行为在个性化推荐系统中一般分为两种：显性反馈行为和隐性反馈行为。显性反馈行为包括用户明确表示对物品喜好的行为。隐性反馈行为指那些不能明确反应用户喜好的行为（页面浏览行为）。 \n",
    "\n",
    "&emsp;&emsp;| 显性反馈数据 | 隐性反馈数据 \n",
    "--- | --- | ---\n",
    "用户兴趣 | 明确 | 不明确\n",
    "数量 | 较少 | 庞大\n",
    "存储 | 数据库 | 分布式文件系统\n",
    "实时读取 | 实时 | 有延迟\n",
    "正负反馈 | 都有 | 只有正反馈\n",
    "\n",
    "目前比较有代表性的数据集有下面几个：  \n",
    "1. 无上下文信息的隐性反馈数据集：每一条行为记录仅仅包含用户ID和物品ID。\n",
    "2. 无上下文信息的显性反馈数据集：每一条记录包含用户ID、物品ID和用户对物品的评分。\n",
    "3. 有上下文信息的隐性反馈数据集：每一条记录包含用户ID、物品ID和用户对物品产生行为的时间戳。\n",
    "4. 有上下文信息的显性反馈数据集：每一条记录包含用户ID、物品ID、用户对物品的评分和评分行为发生的时间戳。"
   ]
  },
  {
   "cell_type": "markdown",
   "metadata": {},
   "source": [
    "## 用户行为分析\n",
    "\n",
    "### 用户活跃度和物品流行度的分布\n",
    "\n",
    "&emsp;&emsp;互联网上的很多数据分布都满足一种称为PowerLaw的分布，这种分布也称为长尾分布。$$f(x) = \\alpha x^k$$  \n",
    "&emsp;&emsp;用户行为数据也有上述规律。令$f_u(k)$为对$k$个物品产生过行为的用户数，令$f_i(k)$为$k$个用户产生过行为的物品数。那么，$f_u(k)$和$f_i(k)$都满足长尾分布。$$f_i(k)=\\alpha_i k^{\\beta_i} \\\\ f_u(k)=\\alpha_u k^{\\beta_u}$$"
   ]
  },
  {
   "cell_type": "code",
   "execution_count": 1,
   "metadata": {},
   "outputs": [],
   "source": [
    "import os, sys\n",
    "import pandas as pd\n",
    "import numpy as np\n",
    "\n",
    "PROJECT_ROOT = os.path.dirname(sys.path[0])"
   ]
  },
  {
   "cell_type": "code",
   "execution_count": 11,
   "metadata": {},
   "outputs": [
    {
     "data": {
      "text/html": [
       "<div>\n",
       "<style scoped>\n",
       "    .dataframe tbody tr th:only-of-type {\n",
       "        vertical-align: middle;\n",
       "    }\n",
       "\n",
       "    .dataframe tbody tr th {\n",
       "        vertical-align: top;\n",
       "    }\n",
       "\n",
       "    .dataframe thead th {\n",
       "        text-align: right;\n",
       "    }\n",
       "</style>\n",
       "<table border=\"1\" class=\"dataframe\">\n",
       "  <thead>\n",
       "    <tr style=\"text-align: right;\">\n",
       "      <th></th>\n",
       "      <th>user_id</th>\n",
       "      <th>movie_id</th>\n",
       "      <th>rating</th>\n",
       "      <th>timestamp</th>\n",
       "    </tr>\n",
       "  </thead>\n",
       "  <tbody>\n",
       "    <tr>\n",
       "      <th>0</th>\n",
       "      <td>1</td>\n",
       "      <td>1193</td>\n",
       "      <td>5</td>\n",
       "      <td>978300760</td>\n",
       "    </tr>\n",
       "    <tr>\n",
       "      <th>1</th>\n",
       "      <td>1</td>\n",
       "      <td>661</td>\n",
       "      <td>3</td>\n",
       "      <td>978302109</td>\n",
       "    </tr>\n",
       "    <tr>\n",
       "      <th>2</th>\n",
       "      <td>1</td>\n",
       "      <td>914</td>\n",
       "      <td>3</td>\n",
       "      <td>978301968</td>\n",
       "    </tr>\n",
       "    <tr>\n",
       "      <th>3</th>\n",
       "      <td>1</td>\n",
       "      <td>3408</td>\n",
       "      <td>4</td>\n",
       "      <td>978300275</td>\n",
       "    </tr>\n",
       "    <tr>\n",
       "      <th>4</th>\n",
       "      <td>1</td>\n",
       "      <td>2355</td>\n",
       "      <td>5</td>\n",
       "      <td>978824291</td>\n",
       "    </tr>\n",
       "  </tbody>\n",
       "</table>\n",
       "</div>"
      ],
      "text/plain": [
       "   user_id  movie_id  rating  timestamp\n",
       "0        1      1193       5  978300760\n",
       "1        1       661       3  978302109\n",
       "2        1       914       3  978301968\n",
       "3        1      3408       4  978300275\n",
       "4        1      2355       5  978824291"
      ]
     },
     "execution_count": 11,
     "metadata": {},
     "output_type": "execute_result"
    }
   ],
   "source": [
    "movieLen_df = pd.read_table(PROJECT_ROOT + '/src/data/ml-1m/ratings.dat', \n",
    "                            header=None, names=[\"user_id\",\"movie_id\",\"rating\", \"timestamp\"], sep='::', engine='python')\n",
    "movieLen_df.head()"
   ]
  },
  {
   "cell_type": "code",
   "execution_count": 2,
   "metadata": {},
   "outputs": [
    {
     "data": {
      "text/html": [
       "<div>\n",
       "<style scoped>\n",
       "    .dataframe tbody tr th:only-of-type {\n",
       "        vertical-align: middle;\n",
       "    }\n",
       "\n",
       "    .dataframe tbody tr th {\n",
       "        vertical-align: top;\n",
       "    }\n",
       "\n",
       "    .dataframe thead th {\n",
       "        text-align: right;\n",
       "    }\n",
       "</style>\n",
       "<table border=\"1\" class=\"dataframe\">\n",
       "  <thead>\n",
       "    <tr style=\"text-align: right;\">\n",
       "      <th></th>\n",
       "      <th>item_popularity</th>\n",
       "      <th>counts</th>\n",
       "      <th>log_item_popularity</th>\n",
       "    </tr>\n",
       "  </thead>\n",
       "  <tbody>\n",
       "    <tr>\n",
       "      <th>0</th>\n",
       "      <td>1</td>\n",
       "      <td>114</td>\n",
       "      <td>0.000000</td>\n",
       "    </tr>\n",
       "    <tr>\n",
       "      <th>1</th>\n",
       "      <td>2</td>\n",
       "      <td>89</td>\n",
       "      <td>0.301030</td>\n",
       "    </tr>\n",
       "    <tr>\n",
       "      <th>2</th>\n",
       "      <td>3</td>\n",
       "      <td>42</td>\n",
       "      <td>0.477121</td>\n",
       "    </tr>\n",
       "    <tr>\n",
       "      <th>3</th>\n",
       "      <td>4</td>\n",
       "      <td>45</td>\n",
       "      <td>0.602060</td>\n",
       "    </tr>\n",
       "    <tr>\n",
       "      <th>4</th>\n",
       "      <td>5</td>\n",
       "      <td>39</td>\n",
       "      <td>0.698970</td>\n",
       "    </tr>\n",
       "  </tbody>\n",
       "</table>\n",
       "</div>"
      ],
      "text/plain": [
       "   item_popularity  counts  log_item_popularity\n",
       "0                1     114             0.000000\n",
       "1                2      89             0.301030\n",
       "2                3      42             0.477121\n",
       "3                4      45             0.602060\n",
       "4                5      39             0.698970"
      ]
     },
     "execution_count": 2,
     "metadata": {},
     "output_type": "execute_result"
    }
   ],
   "source": [
    "sum_movie_rating = (\n",
    "    movieLen_df[[\"user_id\",\"movie_id\"]].groupby([\"movie_id\"],as_index = False).count())\n",
    "sum_movie_rating.rename(\n",
    "                mapper = {\"user_id\" : \"item_popularity\"},\n",
    "                axis = 1,\n",
    "                inplace = True\n",
    ")\n",
    "sum_movie_rating = sum_movie_rating.groupby(\"item_popularity\",as_index = False).count()\n",
    "sum_movie_rating.rename(\n",
    "                mapper = {\"movie_id\" : \"counts\"},\n",
    "                axis = 1,\n",
    "                inplace = True\n",
    ")\n",
    "sum_movie_rating[\"log_item_popularity\"] = np.log10(sum_movie_rating[\"item_popularity\"])\n",
    "sum_movie_rating.head()"
   ]
  },
  {
   "cell_type": "code",
   "execution_count": 3,
   "metadata": {
    "scrolled": false
   },
   "outputs": [
    {
     "data": {
      "image/png": "[encoded data removed]",
      "text/plain": [
       "<Figure size 432x432 with 3 Axes>"
      ]
     },
     "metadata": {},
     "output_type": "display_data"
    }
   ],
   "source": [
    "import seaborn as sns\n",
    "import matplotlib.pyplot as plt\n",
    "sns.set_style(\"whitegrid\")\n",
    "\n",
    "axe = sns.jointplot(x = \"log_item_popularity\",y = \"counts\",data = sum_movie_rating)"
   ]
  },
  {
   "cell_type": "code",
   "execution_count": 4,
   "metadata": {},
   "outputs": [
    {
     "data": {
      "image/png": "[encoded data removed]",
      "text/plain": [
       "<Figure size 432x432 with 3 Axes>"
      ]
     },
     "metadata": {},
     "output_type": "display_data"
    }
   ],
   "source": [
    "item_popularity = movieLen_df.groupby([\"user_id\"],as_index = False).count()\n",
    "item_popularity.rename(mapper = {\"movie_id\" : \"movie_count\"},axis = 1,inplace = True)\n",
    "item_popularity = item_popularity.groupby([\"movie_count\"],as_index = False).count()\n",
    "item_popularity.rename(mapper = {\"user_id\" : \"user_count\"},axis = 1,inplace = True)\n",
    "item_popularity[\"log_movie_count\"] = np.log10(item_popularity.movie_count)\n",
    "\n",
    "sns.set_style(\"whitegrid\")\n",
    "\n",
    "sns.jointplot(data = item_popularity,x = \"log_movie_count\",y = \"user_count\");"
   ]
  },
  {
   "cell_type": "markdown",
   "metadata": {},
   "source": [
    "### 用户活跃度和物品流行度的关系\n",
    "&emsp;&emsp;一般来说，不活跃的用户要么是新用户，要么是只来过网站一两次的老用户。新用户倾向于浏览热门的物品，而老用户会组件开始浏览冷门的物品。  \n",
    "&emsp;&emsp;基于领域的方法主要包含下面两种算法：  \n",
    "1. 基于用户的协同过滤算法：给用户推荐和他兴趣相似的其他用户喜欢的物品。\n",
    "2. 基于物品的协同过滤算法：给用户推荐和他之前喜欢的物品相似的物品。"
   ]
  },
  {
   "cell_type": "code",
   "execution_count": 5,
   "metadata": {
    "scrolled": false
   },
   "outputs": [
    {
     "data": {
      "image/png": "[encoded data removed]",
      "text/plain": [
       "<Figure size 432x432 with 3 Axes>"
      ]
     },
     "metadata": {},
     "output_type": "display_data"
    }
   ],
   "source": [
    "import seaborn as sns\n",
    "\n",
    "# 用户活跃度\n",
    "user_activity = movieLen_df[[\"user_id\",\"movie_id\"]].groupby(\"user_id\").count()\n",
    "user_activity.rename({\"movie_id\" : \"user_activity\"}, axis = 1, inplace = True)\n",
    "\n",
    "# 物品活跃度\n",
    "movie_popularity = (movieLen_df[[\"user_id\",\"movie_id\"]].groupby(\"movie_id\", as_index = False).count())\n",
    "movie_popularity.rename({\"user_id\" : \"movie_popularity\"}, axis = 1, inplace = True)\n",
    "\n",
    "\n",
    "combine = pd.merge(left = movieLen_df, right = user_activity, on = \"user_id\")\n",
    "combine = pd.merge(left = combine, right = movie_popularity, on = \"movie_id\")\n",
    "\n",
    "combine = combine.groupby([\"user_activity\"],as_index = False).mean()\n",
    "\n",
    "sns.set_style(\"whitegrid\")\n",
    "sns.jointplot(data = combine,x = \"user_activity\",y = \"movie_popularity\");"
   ]
  },
  {
   "cell_type": "markdown",
   "metadata": {},
   "source": [
    "## 实验设计和算法评测\n",
    "\n",
    "### 数据集\n",
    "采用的是MoveLens数据集，包含6000多用户对4000多部电影的100万条评分。"
   ]
  },
  {
   "cell_type": "code",
   "execution_count": 6,
   "metadata": {},
   "outputs": [
    {
     "data": {
      "text/html": [
       "<div>\n",
       "<style scoped>\n",
       "    .dataframe tbody tr th:only-of-type {\n",
       "        vertical-align: middle;\n",
       "    }\n",
       "\n",
       "    .dataframe tbody tr th {\n",
       "        vertical-align: top;\n",
       "    }\n",
       "\n",
       "    .dataframe thead th {\n",
       "        text-align: right;\n",
       "    }\n",
       "</style>\n",
       "<table border=\"1\" class=\"dataframe\">\n",
       "  <thead>\n",
       "    <tr style=\"text-align: right;\">\n",
       "      <th></th>\n",
       "      <th>user_id</th>\n",
       "      <th>movie_id</th>\n",
       "      <th>rating</th>\n",
       "      <th>timestamp</th>\n",
       "    </tr>\n",
       "  </thead>\n",
       "  <tbody>\n",
       "    <tr>\n",
       "      <th>0</th>\n",
       "      <td>1</td>\n",
       "      <td>1193</td>\n",
       "      <td>5</td>\n",
       "      <td>978300760</td>\n",
       "    </tr>\n",
       "    <tr>\n",
       "      <th>1</th>\n",
       "      <td>1</td>\n",
       "      <td>661</td>\n",
       "      <td>3</td>\n",
       "      <td>978302109</td>\n",
       "    </tr>\n",
       "    <tr>\n",
       "      <th>2</th>\n",
       "      <td>1</td>\n",
       "      <td>914</td>\n",
       "      <td>3</td>\n",
       "      <td>978301968</td>\n",
       "    </tr>\n",
       "    <tr>\n",
       "      <th>3</th>\n",
       "      <td>1</td>\n",
       "      <td>3408</td>\n",
       "      <td>4</td>\n",
       "      <td>978300275</td>\n",
       "    </tr>\n",
       "    <tr>\n",
       "      <th>4</th>\n",
       "      <td>1</td>\n",
       "      <td>2355</td>\n",
       "      <td>5</td>\n",
       "      <td>978824291</td>\n",
       "    </tr>\n",
       "  </tbody>\n",
       "</table>\n",
       "</div>"
      ],
      "text/plain": [
       "   user_id  movie_id  rating  timestamp\n",
       "0        1      1193       5  978300760\n",
       "1        1       661       3  978302109\n",
       "2        1       914       3  978301968\n",
       "3        1      3408       4  978300275\n",
       "4        1      2355       5  978824291"
      ]
     },
     "execution_count": 6,
     "metadata": {},
     "output_type": "execute_result"
    }
   ],
   "source": [
    "movieLen_df.head()"
   ]
  },
  {
   "cell_type": "markdown",
   "metadata": {},
   "source": [
    "### 实验设计\n"
   ]
  },
  {
   "cell_type": "code",
   "execution_count": 7,
   "metadata": {},
   "outputs": [],
   "source": [
    "from sklearn.model_selection import KFold\n",
    "\n",
    "def split_data(movieLen_df, M=8, seed=1):\n",
    "    user_data = movieLen_df['user_id']\n",
    "    movie_data = movieLen_df['movie_id']\n",
    "    \n",
    "    kf = KFold(M, True, seed)\n",
    "    for train_index, test_index in kf.split(user_data):\n",
    "        train_user_dataset = user_data.iloc[train_index]\n",
    "        train_movie_dataset = movie_data.iloc[train_index]\n",
    "        train_dataset = pd.DataFrame({'user_id': train_user_dataset, 'movie_id': train_movie_dataset})\n",
    "        test_user_dataset = user_data.iloc[test_index]\n",
    "        test_movie_dataset = movie_data.iloc[test_index]\n",
    "        test_dataset = pd.DataFrame({'user_id': test_user_dataset, 'movie_id': test_movie_dataset})\n",
    "        yield train_dataset, test_dataset"
   ]
  },
  {
   "cell_type": "markdown",
   "metadata": {},
   "source": [
    "### 评测指标\n",
    "\n",
    "对用户$u$推荐$N$个物品（记为$R(u)$），令用户$u$在测试集上喜欢的物品集合为$T(u)$，通过准确率/召回率评测推荐系统的精度：$$\\text{Recall}=\\frac{ \\displaystyle \\sum_u|R(u) \\cap T(u)|}{\\displaystyle \\sum_u |T(u)|} \\\\ \\text{Precision}=\\frac{ \\displaystyle \\sum_u|R(u) \\cap T(u)|}{\\displaystyle \\sum_u |R(u)|}$$召回率描述了有多少比例的用户-物品评分记录包含在最终的推荐列表中，而准确率描述最终的推荐列表中有多少比例是发生过的用户-物品评分记录。"
   ]
  },
  {
   "cell_type": "code",
   "execution_count": 8,
   "metadata": {},
   "outputs": [],
   "source": [
    "def recall(recommends, tests):\n",
    "    \"\"\"\n",
    "    计算Recall召回率\n",
    "    :param recommends: 给用户推荐的商品，recommends为一个dict，格式为{ user_id : 推荐的物品 }\n",
    "    :param tests: 测试集，同样为一个dict，格式为{ user_id : 实际发生行为的物品 }\n",
    "    :return:\n",
    "    \"\"\"\n",
    "    n_union = 0.\n",
    "    recommend_sum = 0.\n",
    "    for user_id, items in recommends.items():\n",
    "        recommend_set = set(items)\n",
    "        test_set = set(tests[user_id])\n",
    "        n_union += len(recommend_set & test_set)\n",
    "        recommend_sum += len(recommend_set)\n",
    "\n",
    "    return n_union / recommend_sum"
   ]
  },
  {
   "cell_type": "code",
   "execution_count": 9,
   "metadata": {},
   "outputs": [],
   "source": [
    "def precision(recommends, tests):\n",
    "    \"\"\"\n",
    "    计算Precision\n",
    "    :param recommends: 给用户推荐的商品，recommends为一个dict，格式为 { user_id : 推荐的物品 }\n",
    "    :param tests: 测试集，同样为一个dict，格式为 { userID : 实际发生事务的物品 }\n",
    "    :return: Precision\n",
    "    \"\"\"\n",
    "    n_union = 0.\n",
    "    user_sum = 0.\n",
    "    for user_id, items in recommends.items():\n",
    "        recommend_set = set(items)\n",
    "        test_set = set(tests[user_id])\n",
    "        n_union += len(recommend_set & test_set)\n",
    "        user_sum += len(test_set)\n",
    "\n",
    "    return n_union / user_sum"
   ]
  },
  {
   "cell_type": "markdown",
   "metadata": {},
   "source": [
    "覆盖率反应了推荐算法发掘长尾的能力，覆盖率越高，说明推荐算法越能够将长尾中的物品推荐给用户。$$\\text{Coverage}=\\frac{|\\bigcup_{u \\in U}R(u)|}{|I|}$$如果所有的物品都被推荐给至少一个用户，那么覆盖率就是100%。"
   ]
  },
  {
   "cell_type": "code",
   "execution_count": 10,
   "metadata": {},
   "outputs": [],
   "source": [
    "def coverage(recommends, all_items):\n",
    "    \"\"\"\n",
    "    计算覆盖率\n",
    "    :param recommends: 给用户推荐的商品，recommends为一个dict，格式为{ user_id : 推荐的物品 }\n",
    "    :param all_items: 所有的物品，为list或set类型\n",
    "    :return:\n",
    "    \"\"\"\n",
    "    recommend_items = set()\n",
    "    for _, items in recommends.items():\n",
    "        for item in items:\n",
    "            recommend_items.add(item)\n",
    "    return len(recommend_items) / len(all_items)"
   ]
  },
  {
   "cell_type": "markdown",
   "metadata": {},
   "source": [
    "用推荐列表中物品的平均流行度度量推荐结果的新颖度，如果推荐出的物品都很热门，说明推荐的新颖度较低，否则说明推荐结果比较新颖。"
   ]
  },
  {
   "cell_type": "code",
   "execution_count": 11,
   "metadata": {},
   "outputs": [],
   "source": [
    "def popularity(item_popular, recommends):\n",
    "    \"\"\"\n",
    "    计算流行度\n",
    "    :param item_popular: 商品流行度　dict形式{ item_id : popularity}\n",
    "    :param recommends: 给用户推荐的商品，recommends为一个dict，格式为{ user_id : 推荐的物品 }\n",
    "    :return: 平均流行度\n",
    "    \"\"\"\n",
    "    popularity_value = 0.  # 流行度\n",
    "    n = 0.\n",
    "    for _, items in recommends.items():\n",
    "        for item in items:\n",
    "            popularity_value += math.log(1. + item_popular.get(item, 0.))\n",
    "            n += 1\n",
    "    return popularity_value / n"
   ]
  },
  {
   "cell_type": "markdown",
   "metadata": {},
   "source": [
    "## 基于领域的算法\n",
    "\n",
    "### 基于用户的协同过滤算法\n",
    "\n",
    "#### 基础算法\n",
    "基于用户的协同过滤算法主要包括两个步骤：\n",
    "1. 找到和目标用户兴趣相似的用户集合\n",
    "2. 找到这个集合中的用户喜欢的，且目标用户没有听说过的物品推荐给目标用户\n",
    "\n",
    "给定用户$u$和用户$v$，令$N(u)$表示用户$u$曾经有过正反馈的物品集合，令$N(v)$为用户$v$曾经有过正反馈的物品集合，通过余弦相似度计算$u$和$v$的兴趣相似度：$$w_{uv} = \\frac{|N(u) \\cap N(v)|}{\\sqrt{|N(u)||N(v)|}}$$"
   ]
  },
  {
   "cell_type": "code",
   "execution_count": 2,
   "metadata": {},
   "outputs": [
    {
     "name": "stderr",
     "output_type": "stream",
     "text": [
      "开始训练模型\n",
      "开始载入用户协同矩阵....\n",
      "载入协同过滤矩阵完成\n",
      "开始保存协同过滤矩阵\n",
      "保存协同过滤矩阵完成\n"
     ]
    }
   ],
   "source": [
    "from main.chapter2 import usercf\n",
    "from main.util import movielen_reader\n",
    "\n",
    "trainset,testset = movielen_reader.read_rating_data(path=PROJECT_ROOT + \"/src/data/ml-1m/ratings.dat\", train_rate = 0.8)\n",
    "\n",
    "uf = usercf.UserCF(trainset)\n",
    "sim_matrix_path = PROJECT_ROOT + \"/src/main/chapter2/store/user_sim.pkl\"\n",
    "uf.train(sim_matrix_path)"
   ]
  },
  {
   "cell_type": "markdown",
   "metadata": {},
   "source": [
    "得到了用户之间的兴趣相似度后，UserCF算法就会给用户推荐和他兴趣最相似的K个用户喜欢的物品。  \n",
    "UserCF算法中用户$u$对物品$i$的感兴趣程度：$$p(u,i)=\\sum_{v \\in S(u,K) \\cap N(i)} w_{uv}r_{vi}$$其中，$S(u,K)$包含和用户$u$兴趣最接近的$K$个用户，$N(i)$是对物品$i$有过行为的用户集合，$w_{uv}$是用户$u$和用户$v$的兴趣相似度，$r_{vi}$表示用户$v$对物品$i$的兴趣。"
   ]
  },
  {
   "cell_type": "code",
   "execution_count": 3,
   "metadata": {},
   "outputs": [],
   "source": [
    "test = dict()\n",
    "for user,item,_ in testset:\n",
    "    test.setdefault(user,list())\n",
    "    test[user].append(item)\n",
    "    \n",
    "def train_popularity(train):\n",
    "    \"\"\"计算训练集的流行度\"\"\"\n",
    "    train_popularity = dict()\n",
    "    for user,item,_ in train:\n",
    "        train_popularity.setdefault(item,0)\n",
    "        train_popularity[item] += 1\n",
    "    return train_popularity\n",
    "\n",
    "from main.util import metric\n",
    "from main.util import movielen_reader\n",
    "import pandas as pd\n",
    "\n",
    "\n",
    "def evaluate(N, K):\n",
    "    \"\"\"\n",
    "    评估模型\n",
    "    :param N: 推荐的商品个数\n",
    "    :param K: 搜索邻近的用户个数\n",
    "    :return: 精确率(precision), 召回率(recall), 覆盖率(coverage), 流行度(popularity)\n",
    "    \"\"\"\n",
    "    recommens = uf.recommend_users(test.keys(), N=N, K=K)\n",
    "    all_items = movielen_reader.all_items(PROJECT_ROOT + \"/src/data/ml-1m/ratings.dat\")\n",
    "    item_popularity = train_popularity(trainset)\n",
    "\n",
    "    recall = metric.recall(recommends=recommens, tests=test)\n",
    "    precision = metric.precision(recommends=recommens, tests=test)\n",
    "    coverage = metric.coverage(recommends=recommens, all_items=all_items)\n",
    "    popularity = metric.popularity(item_popular=item_popularity, recommends=recommens)\n",
    "\n",
    "    return precision, recall, coverage, popularity"
   ]
  },
  {
   "cell_type": "code",
   "execution_count": 12,
   "metadata": {},
   "outputs": [],
   "source": [
    "#表示推荐的商品个数\n",
    "N = 30\n",
    "#表示邻近用户的list\n",
    "K_list = [5,10,20,40,80,160]  \n",
    "usercf_evals = list()\n",
    "\n",
    "for k in K_list:\n",
    "    single_eval = evaluate(N = N,K = k)\n",
    "    usercf_evals.append(single_eval)"
   ]
  },
  {
   "cell_type": "code",
   "execution_count": 13,
   "metadata": {},
   "outputs": [
    {
     "data": {
      "text/html": [
       "<div>\n",
       "<style scoped>\n",
       "    .dataframe tbody tr th:only-of-type {\n",
       "        vertical-align: middle;\n",
       "    }\n",
       "\n",
       "    .dataframe tbody tr th {\n",
       "        vertical-align: top;\n",
       "    }\n",
       "\n",
       "    .dataframe thead th {\n",
       "        text-align: right;\n",
       "    }\n",
       "</style>\n",
       "<table border=\"1\" class=\"dataframe\">\n",
       "  <thead>\n",
       "    <tr style=\"text-align: right;\">\n",
       "      <th></th>\n",
       "      <th>Precision</th>\n",
       "      <th>Recall</th>\n",
       "      <th>Coverage</th>\n",
       "      <th>Popularity</th>\n",
       "    </tr>\n",
       "  </thead>\n",
       "  <tbody>\n",
       "    <tr>\n",
       "      <th>5</th>\n",
       "      <td>0.157383</td>\n",
       "      <td>0.173963</td>\n",
       "      <td>0.717485</td>\n",
       "      <td>6.558579</td>\n",
       "    </tr>\n",
       "    <tr>\n",
       "      <th>10</th>\n",
       "      <td>0.184202</td>\n",
       "      <td>0.203606</td>\n",
       "      <td>0.578251</td>\n",
       "      <td>6.724272</td>\n",
       "    </tr>\n",
       "    <tr>\n",
       "      <th>20</th>\n",
       "      <td>0.202993</td>\n",
       "      <td>0.224376</td>\n",
       "      <td>0.464652</td>\n",
       "      <td>6.845634</td>\n",
       "    </tr>\n",
       "    <tr>\n",
       "      <th>40</th>\n",
       "      <td>0.212825</td>\n",
       "      <td>0.235244</td>\n",
       "      <td>0.381274</td>\n",
       "      <td>6.945045</td>\n",
       "    </tr>\n",
       "    <tr>\n",
       "      <th>80</th>\n",
       "      <td>0.215473</td>\n",
       "      <td>0.238171</td>\n",
       "      <td>0.297895</td>\n",
       "      <td>7.033295</td>\n",
       "    </tr>\n",
       "    <tr>\n",
       "      <th>160</th>\n",
       "      <td>0.211316</td>\n",
       "      <td>0.233576</td>\n",
       "      <td>0.235834</td>\n",
       "      <td>7.119175</td>\n",
       "    </tr>\n",
       "  </tbody>\n",
       "</table>\n",
       "</div>"
      ],
      "text/plain": [
       "     Precision    Recall  Coverage  Popularity\n",
       "5     0.157383  0.173963  0.717485    6.558579\n",
       "10    0.184202  0.203606  0.578251    6.724272\n",
       "20    0.202993  0.224376  0.464652    6.845634\n",
       "40    0.212825  0.235244  0.381274    6.945045\n",
       "80    0.215473  0.238171  0.297895    7.033295\n",
       "160   0.211316  0.233576  0.235834    7.119175"
      ]
     },
     "execution_count": 13,
     "metadata": {},
     "output_type": "execute_result"
    }
   ],
   "source": [
    "pd.DataFrame(\n",
    "        data = usercf_evals,\n",
    "        index = K_list,\n",
    "        columns = [\"Precision\",\"Recall\",\"Coverage\",\"Popularity\"]\n",
    ")"
   ]
  },
  {
   "cell_type": "markdown",
   "metadata": {},
   "source": [
    "#### 用户相似度计算的改进\n",
    "\n",
    "两个用户对冷门物品采取过同样的行为，更能说明他们兴趣的相似度，根据用户行为计算用户的兴趣相似度的改进公式：$$w_{uv}=\\frac{\\displaystyle \\sum_{i \\in N(u) \\cap N(v)} \\frac{1}{\\log(1+|N(i)|)}}{\\sqrt{|N(u)||N(v)|}}$$可以看到，该公式通过$\\displaystyle \\frac{1}{\\log(1+|N(i)|)}$惩罚了用户$u$和用户$v$共同兴趣列表中热门物品对他们相似度的影响。"
   ]
  },
  {
   "cell_type": "code",
   "execution_count": 2,
   "metadata": {},
   "outputs": [
    {
     "name": "stderr",
     "output_type": "stream",
     "text": [
      "开始训练模型\n",
      "开始载入用户协同矩阵....\n",
      "载入协同过滤矩阵完成\n",
      "开始保存协同过滤矩阵\n",
      "保存协同过滤矩阵完成\n"
     ]
    }
   ],
   "source": [
    "from main.chapter2 import useriif\n",
    "from main.util import movielen_reader\n",
    "\n",
    "trainset,testset = movielen_reader.read_rating_data(path=PROJECT_ROOT + \"/src/data/ml-1m/ratings.dat\", train_rate = 0.8)\n",
    "\n",
    "user_iif = useriif.UserIIF(trainset)\n",
    "sim_matrix_path = PROJECT_ROOT + \"/src/main/chapter2/store/useriif_sim.pkl\"\n",
    "user_iif.train(sim_matrix_path)"
   ]
  },
  {
   "cell_type": "code",
   "execution_count": 5,
   "metadata": {},
   "outputs": [],
   "source": [
    "test = dict()\n",
    "for user,item,_ in testset:\n",
    "    test.setdefault(user,list())\n",
    "    test[user].append(item)\n",
    "    \n",
    "def train_popularity(train):\n",
    "    \"\"\"计算训练集的流行度\"\"\"\n",
    "    train_popularity = dict()\n",
    "    for user,item,_ in train:\n",
    "        train_popularity.setdefault(item,0)\n",
    "        train_popularity[item] += 1\n",
    "    return train_popularity\n",
    "\n",
    "from main.util import metric\n",
    "from main.util import movielen_reader\n",
    "import pandas as pd\n",
    "\n",
    "\n",
    "def evaluate(N, K):\n",
    "    \"\"\"\n",
    "    评估模型\n",
    "    :param N: 推荐的商品个数\n",
    "    :param K: 搜索邻近的用户个数\n",
    "    :return: 精确率(precision), 召回率(recall), 覆盖率(coverage), 流行度(popularity)\n",
    "    \"\"\"\n",
    "    recommens = user_iif.recommend_users(test.keys(), N=N, K=K)\n",
    "    all_items = movielen_reader.all_items(PROJECT_ROOT + \"/src/data/ml-1m/ratings.dat\")\n",
    "    item_popularity = train_popularity(trainset)\n",
    "\n",
    "    recall = metric.recall(recommends=recommens, tests=test)\n",
    "    precision = metric.precision(recommends=recommens, tests=test)\n",
    "    coverage = metric.coverage(recommends=recommens, all_items=all_items)\n",
    "    popularity = metric.popularity(item_popular=item_popularity, recommends=recommens)\n",
    "\n",
    "    return precision, recall, coverage, popularity"
   ]
  },
  {
   "cell_type": "code",
   "execution_count": 8,
   "metadata": {},
   "outputs": [],
   "source": [
    "N = 30   #表示推荐的商品个数\n",
    "K_list = [80]  #表示临近用户的list\n",
    "useriif_evals = list()\n",
    "\n",
    "for k in K_list:\n",
    "    single_eval = evaluate(N = N,K = k)\n",
    "    useriif_evals.append(single_eval)"
   ]
  },
  {
   "cell_type": "code",
   "execution_count": 19,
   "metadata": {},
   "outputs": [
    {
     "data": {
      "text/html": [
       "<div>\n",
       "<style scoped>\n",
       "    .dataframe tbody tr th:only-of-type {\n",
       "        vertical-align: middle;\n",
       "    }\n",
       "\n",
       "    .dataframe tbody tr th {\n",
       "        vertical-align: top;\n",
       "    }\n",
       "\n",
       "    .dataframe thead th {\n",
       "        text-align: right;\n",
       "    }\n",
       "</style>\n",
       "<table border=\"1\" class=\"dataframe\">\n",
       "  <thead>\n",
       "    <tr style=\"text-align: right;\">\n",
       "      <th></th>\n",
       "      <th>Precision</th>\n",
       "      <th>Recall</th>\n",
       "      <th>Coverage</th>\n",
       "      <th>Popularity</th>\n",
       "    </tr>\n",
       "  </thead>\n",
       "  <tbody>\n",
       "    <tr>\n",
       "      <th>UserCF</th>\n",
       "      <td>0.211316</td>\n",
       "      <td>0.233576</td>\n",
       "      <td>0.235834</td>\n",
       "      <td>7.119175</td>\n",
       "    </tr>\n",
       "    <tr>\n",
       "      <th>UserCF-IIF</th>\n",
       "      <td>0.216747</td>\n",
       "      <td>0.239579</td>\n",
       "      <td>0.317053</td>\n",
       "      <td>7.005780</td>\n",
       "    </tr>\n",
       "  </tbody>\n",
       "</table>\n",
       "</div>"
      ],
      "text/plain": [
       "            Precision    Recall  Coverage  Popularity\n",
       "UserCF       0.211316  0.233576  0.235834    7.119175\n",
       "UserCF-IIF   0.216747  0.239579  0.317053    7.005780"
      ]
     },
     "execution_count": 19,
     "metadata": {},
     "output_type": "execute_result"
    }
   ],
   "source": [
    "pd.DataFrame(\n",
    "        data = [usercf_evals[5], useriif_evals[0]],\n",
    "        index = ['UserCF', 'UserCF-IIF'],\n",
    "        columns = [\"Precision\",\"Recall\",\"Coverage\",\"Popularity\"]\n",
    ")"
   ]
  },
  {
   "cell_type": "markdown",
   "metadata": {},
   "source": [
    "### 基于物品的协同过滤算法\n",
    "\n",
    "#### 基础算法\n",
    "\n",
    "&emsp;&emsp;基于物品的协同过滤算法（简称ItemCF）给用户推荐那些和他们之前喜欢的物品相似的物品。ItemCF算法并不利用物品的内容属性计算物品之间的相似度，它主要通过分析用户的行为记录，计算物品之间的相似度。  \n",
    "&emsp;&emsp;基于物品的协同过滤算法主要分为两步：\n",
    "1. 计算物品之间的相似度\n",
    "2. 根据物品的相似度和用户的历史行为，给用户生成推荐列表\n",
    "\n",
    "物品的相似度公式：$$w_{ij}=\\frac{|N(i) \\cap N(j)|}{|N(i)|}$$其中$N(i)$是喜欢物品$i$的用户数，$|N(i) \\cap N(j)|$是同时喜欢物品$i$和物品$j$的用户数。  \n",
    "为了避免推荐出热门的物品，采用如下公式：$$w_{ij}=\\frac{|N(i) \\cap N(j)|}{\\sqrt{|N(i)||N(j)|}}$$"
   ]
  },
  {
   "cell_type": "code",
   "execution_count": 2,
   "metadata": {},
   "outputs": [
    {
     "name": "stderr",
     "output_type": "stream",
     "text": [
      "开始训练模型\n",
      "开始载入用户协同矩阵....\n",
      "载入协同过滤矩阵完成\n",
      "开始保存协同过滤矩阵\n",
      "保存协同过滤矩阵完成\n"
     ]
    }
   ],
   "source": [
    "from main.chapter2 import itemcf\n",
    "from main.util import movielen_reader\n",
    "\n",
    "trainset, testset = movielen_reader.read_rating_data(path=PROJECT_ROOT + \"/src/data/ml-1m/ratings.dat\", train_rate = 0.8)\n",
    "\n",
    "item_cf = itemcf.ItemCF(trainset)\n",
    "sim_matrix_path = PROJECT_ROOT + \"/src/main/chapter2/store/item_sim.pkl\"\n",
    "item_cf.train(sim_matrix_path)"
   ]
  },
  {
   "cell_type": "markdown",
   "metadata": {},
   "source": [
    "得到物品之间的相似度后，ItemCF算法通过如下公式计算用户$u$对一个物品$j$的兴趣：$$p_{uj}=\\sum_{i \\in N(u) \\cap S(j,k)}w_{ji}r_{ui}$$其中$N(u)$表示用户喜欢的物品集合，$S(j,k)$是和物品$j$最相似的$K$个物品的集合，$w_{ji}$是物品$j$和物品$i$的相似度，$r_{ui}$表示用户$u$和物品$i$的兴趣。（对于隐性反馈数据集，如果用户$u$对物品$i$有过行为，即可令$r_{ui}=1$）。  \n",
    "公式含义：和用户历史上感兴趣的物品越相似的物品，越有可能在用户的推荐列表中获得比较高的排名。"
   ]
  },
  {
   "cell_type": "code",
   "execution_count": 3,
   "metadata": {},
   "outputs": [],
   "source": [
    "from main.util import metric\n",
    "from main.util import movielen_reader\n",
    "\n",
    "test = dict()\n",
    "for user,item,_ in testset:\n",
    "    test.setdefault(user,list())\n",
    "    test[user].append(item)\n",
    "    \n",
    "def train_popularity(train):\n",
    "    \"\"\"计算训练集的流行度\"\"\"\n",
    "    train_popularity = dict()\n",
    "    for user,item,_ in train:\n",
    "        train_popularity.setdefault(item,0)\n",
    "        train_popularity[item] += 1\n",
    "    return train_popularity\n",
    "\n",
    "def evaluate(N, K):\n",
    "    \"\"\"\n",
    "    评估模型\n",
    "    :param N: 推荐的商品个数\n",
    "    :param K: 搜索邻近的用户个数\n",
    "    :return: 精确率(precision), 召回率(recall), 覆盖率(coverage), 流行度(popularity)\n",
    "    \"\"\"\n",
    "    recommens = item_cf.recommend_users(test.keys(), N=N, K=K)\n",
    "    all_items = movielen_reader.all_items(PROJECT_ROOT + \"/src/data/ml-1m/ratings.dat\")\n",
    "    item_popularity = train_popularity(trainset)\n",
    "\n",
    "    recall = metric.recall(recommends=recommens, tests=test)\n",
    "    precision = metric.precision(recommends=recommens, tests=test)\n",
    "    coverage = metric.coverage(recommends=recommens, all_items=all_items)\n",
    "    popularity = metric.popularity(item_popular=item_popularity, recommends=recommens)\n",
    "\n",
    "    return precision, recall, coverage, popularity"
   ]
  },
  {
   "cell_type": "code",
   "execution_count": 4,
   "metadata": {},
   "outputs": [],
   "source": [
    "N = 30   #表示推荐的商品个数\n",
    "K_list = [10]  #表示临近用户的list\n",
    "item_evals = list()\n",
    "\n",
    "for k in K_list:\n",
    "    single_eval = evaluate(N = N,K = k)\n",
    "    item_evals.append(single_eval)"
   ]
  },
  {
   "cell_type": "code",
   "execution_count": 5,
   "metadata": {},
   "outputs": [
    {
     "data": {
      "text/html": [
       "<div>\n",
       "<style scoped>\n",
       "    .dataframe tbody tr th:only-of-type {\n",
       "        vertical-align: middle;\n",
       "    }\n",
       "\n",
       "    .dataframe tbody tr th {\n",
       "        vertical-align: top;\n",
       "    }\n",
       "\n",
       "    .dataframe thead th {\n",
       "        text-align: right;\n",
       "    }\n",
       "</style>\n",
       "<table border=\"1\" class=\"dataframe\">\n",
       "  <thead>\n",
       "    <tr style=\"text-align: right;\">\n",
       "      <th></th>\n",
       "      <th>Precision</th>\n",
       "      <th>Recall</th>\n",
       "      <th>Coverage</th>\n",
       "      <th>Popularity</th>\n",
       "    </tr>\n",
       "  </thead>\n",
       "  <tbody>\n",
       "    <tr>\n",
       "      <th>10</th>\n",
       "      <td>0.198071</td>\n",
       "      <td>0.218936</td>\n",
       "      <td>0.358877</td>\n",
       "      <td>6.994376</td>\n",
       "    </tr>\n",
       "  </tbody>\n",
       "</table>\n",
       "</div>"
      ],
      "text/plain": [
       "    Precision    Recall  Coverage  Popularity\n",
       "10   0.198071  0.218936  0.358877    6.994376"
      ]
     },
     "execution_count": 5,
     "metadata": {},
     "output_type": "execute_result"
    }
   ],
   "source": [
    "pd.DataFrame(\n",
    "        data = item_evals,\n",
    "        index = K_list,\n",
    "        columns = [\"Precision\",\"Recall\",\"Coverage\",\"Popularity\"]\n",
    ")"
   ]
  },
  {
   "cell_type": "markdown",
   "metadata": {},
   "source": [
    "#### 物品相似度计算的改进\n",
    "\n",
    "增加IUF（用户活跃度对数的倒数）参数，来修正物品相似度的计算公式：$$w_{ij}=\\frac{\\displaystyle \\sum_{u \\in N(i) \\cap N(j)}\\frac{1}{\\log(1 + |N(u)|)}}{\\sqrt{|N(i)||N(j)|}}$$"
   ]
  },
  {
   "cell_type": "code",
   "execution_count": 6,
   "metadata": {},
   "outputs": [
    {
     "name": "stderr",
     "output_type": "stream",
     "text": [
      "开始训练模型\n",
      "开始载入用户协同矩阵....\n",
      "载入协同过滤矩阵完成\n",
      "开始保存协同过滤矩阵\n",
      "保存协同过滤矩阵完成\n"
     ]
    }
   ],
   "source": [
    "from main.util import movielen_reader\n",
    "from main.chapter2 import itemiuf\n",
    "\n",
    "trainset, testset = movielen_reader.read_rating_data(path=PROJECT_ROOT + \"/src/data/ml-1m/ratings.dat\", train_rate = 0.8)\n",
    "\n",
    "item_iuf = itemiuf.ItemIUF(trainset)\n",
    "sim_matrix_path = PROJECT_ROOT + \"/src/main/chapter2/store/itemiuf_sim.pkl\"\n",
    "item_iuf.train(sim_matrix_path)"
   ]
  },
  {
   "cell_type": "code",
   "execution_count": 7,
   "metadata": {},
   "outputs": [],
   "source": [
    "from main.util import metric\n",
    "from main.util import movielen_reader\n",
    "\n",
    "test = dict()\n",
    "for user,item,_ in testset:\n",
    "    test.setdefault(user,list())\n",
    "    test[user].append(item)\n",
    "    \n",
    "def train_popularity(train):\n",
    "    \"\"\"计算训练集的流行度\"\"\"\n",
    "    train_popularity = dict()\n",
    "    for user,item,_ in train:\n",
    "        train_popularity.setdefault(item,0)\n",
    "        train_popularity[item] += 1\n",
    "    return train_popularity\n",
    "\n",
    "\n",
    "def evaluate(N, K):\n",
    "    \"\"\"\n",
    "    评估模型\n",
    "    :param N: 推荐的商品个数\n",
    "    :param K: 搜索邻近的用户个数\n",
    "    :return: 精确率(precision), 召回率(recall), 覆盖率(coverage), 流行度(popularity)\n",
    "    \"\"\"\n",
    "    recommens = item_iuf.recommend_users(test.keys(), N=N, K=K)\n",
    "    all_items = movielen_reader.all_items(PROJECT_ROOT + \"/src/data/ml-1m/ratings.dat\")\n",
    "    item_popularity = train_popularity(trainset)\n",
    "\n",
    "    recall = metric.recall(recommends=recommens, tests=test)\n",
    "    precision = metric.precision(recommends=recommens, tests=test)\n",
    "    coverage = metric.coverage(recommends=recommens, all_items=all_items)\n",
    "    popularity = metric.popularity(item_popular=item_popularity, recommends=recommens)\n",
    "\n",
    "    return precision, recall, coverage, popularity"
   ]
  },
  {
   "cell_type": "code",
   "execution_count": 9,
   "metadata": {},
   "outputs": [],
   "source": [
    "N = 30   #表示推荐的商品个数\n",
    "K_list = [10]  #表示临近用户的list\n",
    "itemiuf_evals = list()\n",
    "\n",
    "for k in K_list:\n",
    "    single_eval = evaluate(N = N,K = k)\n",
    "    itemiuf_evals.append(single_eval)"
   ]
  },
  {
   "cell_type": "code",
   "execution_count": 10,
   "metadata": {},
   "outputs": [
    {
     "data": {
      "text/html": [
       "<div>\n",
       "<style scoped>\n",
       "    .dataframe tbody tr th:only-of-type {\n",
       "        vertical-align: middle;\n",
       "    }\n",
       "\n",
       "    .dataframe tbody tr th {\n",
       "        vertical-align: top;\n",
       "    }\n",
       "\n",
       "    .dataframe thead th {\n",
       "        text-align: right;\n",
       "    }\n",
       "</style>\n",
       "<table border=\"1\" class=\"dataframe\">\n",
       "  <thead>\n",
       "    <tr style=\"text-align: right;\">\n",
       "      <th></th>\n",
       "      <th>Precision</th>\n",
       "      <th>Recall</th>\n",
       "      <th>Coverage</th>\n",
       "      <th>Popularity</th>\n",
       "    </tr>\n",
       "  </thead>\n",
       "  <tbody>\n",
       "    <tr>\n",
       "      <th>ItemCF</th>\n",
       "      <td>0.198071</td>\n",
       "      <td>0.218936</td>\n",
       "      <td>0.358877</td>\n",
       "      <td>6.994376</td>\n",
       "    </tr>\n",
       "    <tr>\n",
       "      <th>ItemCF-IUF</th>\n",
       "      <td>0.201664</td>\n",
       "      <td>0.222907</td>\n",
       "      <td>0.339450</td>\n",
       "      <td>7.066032</td>\n",
       "    </tr>\n",
       "  </tbody>\n",
       "</table>\n",
       "</div>"
      ],
      "text/plain": [
       "            Precision    Recall  Coverage  Popularity\n",
       "ItemCF       0.198071  0.218936  0.358877    6.994376\n",
       "ItemCF-IUF   0.201664  0.222907  0.339450    7.066032"
      ]
     },
     "execution_count": 10,
     "metadata": {},
     "output_type": "execute_result"
    }
   ],
   "source": [
    "pd.DataFrame(\n",
    "        data = [item_evals[0], itemiuf_evals[0]],\n",
    "        index = ['ItemCF', 'ItemCF-IUF'],\n",
    "        columns = [\"Precision\",\"Recall\",\"Coverage\",\"Popularity\"]\n",
    ")"
   ]
  },
  {
   "cell_type": "markdown",
   "metadata": {},
   "source": [
    "#### 物品相似度的归一化\n",
    "\n",
    "如果将ItemCF的相似度矩阵按最大值归一化，可以提高推荐的准确率，如果已经得到了物品相似度矩阵$w$，那么可以用如下公式得到归一化之后的相似度矩阵$w'$：$$w'_{ij}=\\frac{w_{ij}}{\\displaystyle \\max_j w_{ij}}$$归一化的好处不仅仅在于增加推荐的准确率，还可以提高推荐的覆盖率和多样性。"
   ]
  },
  {
   "cell_type": "code",
   "execution_count": 13,
   "metadata": {},
   "outputs": [
    {
     "name": "stderr",
     "output_type": "stream",
     "text": [
      "开始训练模型\n",
      "开始载入用户协同矩阵....\n",
      "载入协同过滤矩阵完成\n",
      "开始保存协同过滤矩阵\n",
      "保存协同过滤矩阵完成\n"
     ]
    }
   ],
   "source": [
    "from main.util import movielen_reader\n",
    "from main.chapter2 import itemnorm\n",
    "\n",
    "trainset, testset = movielen_reader.read_rating_data(path=PROJECT_ROOT + \"/src/data/ml-1m/ratings.dat\", train_rate = 0.8)\n",
    "\n",
    "item_norm = itemnorm.ItemNorm(trainset)\n",
    "sim_matrix_path = PROJECT_ROOT + \"/src/main/chapter2/store/itemnorm_sim.pkl\"\n",
    "item_norm.train(sim_matrix_path)"
   ]
  },
  {
   "cell_type": "code",
   "execution_count": 14,
   "metadata": {},
   "outputs": [],
   "source": [
    "test = dict()\n",
    "for user,item,_ in testset:\n",
    "    test.setdefault(user,list())\n",
    "    test[user].append(item)\n",
    "    \n",
    "def train_popularity(train):\n",
    "    \"\"\"计算训练集的流行度\"\"\"\n",
    "    train_popularity = dict()\n",
    "    for user,item,_ in train:\n",
    "        train_popularity.setdefault(item,0)\n",
    "        train_popularity[item] += 1\n",
    "    return train_popularity\n",
    "\n",
    "def evaluate(N, K):\n",
    "    \"\"\"\n",
    "    评估模型\n",
    "    :param N: 推荐的商品个数\n",
    "    :param K: 搜索邻近的用户个数\n",
    "    :return: 精确率(precision), 召回率(recall), 覆盖率(coverage), 流行度(popularity)\n",
    "    \"\"\"\n",
    "    recommens = item_norm.recommend_users(test.keys(), N=N, K=K)\n",
    "    all_items = movielen_reader.all_items(PROJECT_ROOT + \"/src/data/ml-1m/ratings.dat\")\n",
    "    item_popularity = train_popularity(trainset)\n",
    "\n",
    "    recall = metric.recall(recommends=recommens, tests=test)\n",
    "    precision = metric.precision(recommends=recommens, tests=test)\n",
    "    coverage = metric.coverage(recommends=recommens, all_items=all_items)\n",
    "    popularity = metric.popularity(item_popular=item_popularity, recommends=recommens)\n",
    "\n",
    "    return precision, recall, coverage, popularity"
   ]
  },
  {
   "cell_type": "code",
   "execution_count": 15,
   "metadata": {},
   "outputs": [],
   "source": [
    "N = 30   #表示推荐的商品个数\n",
    "K_list = [10]  #表示临近用户的list\n",
    "itemnorm_evals = list()\n",
    "\n",
    "for k in K_list:\n",
    "    single_eval = evaluate(N = N,K = k)\n",
    "    itemnorm_evals.append(single_eval)"
   ]
  },
  {
   "cell_type": "code",
   "execution_count": 16,
   "metadata": {},
   "outputs": [
    {
     "data": {
      "text/html": [
       "<div>\n",
       "<style scoped>\n",
       "    .dataframe tbody tr th:only-of-type {\n",
       "        vertical-align: middle;\n",
       "    }\n",
       "\n",
       "    .dataframe tbody tr th {\n",
       "        vertical-align: top;\n",
       "    }\n",
       "\n",
       "    .dataframe thead th {\n",
       "        text-align: right;\n",
       "    }\n",
       "</style>\n",
       "<table border=\"1\" class=\"dataframe\">\n",
       "  <thead>\n",
       "    <tr style=\"text-align: right;\">\n",
       "      <th></th>\n",
       "      <th>Precision</th>\n",
       "      <th>Recall</th>\n",
       "      <th>Coverage</th>\n",
       "      <th>Popularity</th>\n",
       "    </tr>\n",
       "  </thead>\n",
       "  <tbody>\n",
       "    <tr>\n",
       "      <th>ItemCF</th>\n",
       "      <td>0.198071</td>\n",
       "      <td>0.218936</td>\n",
       "      <td>0.358877</td>\n",
       "      <td>6.994376</td>\n",
       "    </tr>\n",
       "    <tr>\n",
       "      <th>ItemCF-Norm</th>\n",
       "      <td>0.198071</td>\n",
       "      <td>0.218936</td>\n",
       "      <td>0.359147</td>\n",
       "      <td>6.994348</td>\n",
       "    </tr>\n",
       "  </tbody>\n",
       "</table>\n",
       "</div>"
      ],
      "text/plain": [
       "             Precision    Recall  Coverage  Popularity\n",
       "ItemCF        0.198071  0.218936  0.358877    6.994376\n",
       "ItemCF-Norm   0.198071  0.218936  0.359147    6.994348"
      ]
     },
     "execution_count": 16,
     "metadata": {},
     "output_type": "execute_result"
    }
   ],
   "source": [
    "pd.DataFrame(\n",
    "        data = [item_evals[0], itemnorm_evals[0]],\n",
    "        index = ['ItemCF', 'ItemCF-Norm'],\n",
    "        columns = [\"Precision\",\"Recall\",\"Coverage\",\"Popularity\"]\n",
    ")"
   ]
  },
  {
   "cell_type": "markdown",
   "metadata": {},
   "source": [
    "### UserCF和ItemCF的综合比较\n",
    "\n",
    "&emsp;&emsp;UserCF给用户推荐那些和他有共同兴趣爱好的用户喜欢的物品，而ItemCF给用户推荐那些和他之前喜欢的物品类似的物品。从这个算法原理可以看出，UserCF的推荐结果着重于反映和用户兴趣相似的小群体的热点，而ItemCF的推荐结果着重于维系用户的历史兴趣。  \n",
    "\n",
    "| &emsp;&emsp;&emsp;&emsp; | <center>UserCF | <center>ItemCF \n",
    "| ---- | :--- | :--- \n",
    "| **性能** | 适用与用户较少的场合，如果用户很多，计算用户相似度矩阵代价很大 | 适用于物品数明显小于用户数的场合，如果物品很多（网页），计算物品相似度矩阵代价很大\n",
    "| **领域** | 时效性较强，用户个性化兴趣不太明显的领域 | 长尾物品丰富，用户个性化需求强烈的领域\n",
    "|**实时性** | 用户有新行为，不一定造成推荐结果的立即变化 | 用户有新行为，一定会导致推荐结果的实时变化\n",
    "|**冷启动** | 在新用户对很少的物品产生行为后，不能立即对他进行个性化推荐，因为用户相似度表是每隔一段时间离线计算的。<br/><br/>新物品上线后一段时间，一旦有用户对物品产生行为，就可以将新物品推荐给和对它产生行为的用户兴趣相似的用户 | 新用户只要对一个物品产生行为，就可以给他推荐和该物品相关的其他物品<br/><br/>但没有办法在不离线更新物品相似度表的情况下将新物品推荐给用户\n",
    "|**推荐理由** | 很难提供令用户信服的推荐解释 | 利用用户的历史行为给用户做推荐解释，可以令用户比较信服\n"
   ]
  },
  {
   "cell_type": "markdown",
   "metadata": {},
   "source": [
    "## 隐语义模型\n",
    "\n",
    "### 基础算法\n",
    "\n",
    "&emsp;&emsp;LFM（latent factor model）隐语义模型的核心思想是通过隐含特征(latent factor)联系用户兴趣和物品。\n",
    "LFM通过如下公式计算用户$u$对物品$i$的兴趣：$$\\text{Preference}(u, i)=r_{ui}=p_u^T q_i = \\sum_{k=1}^K p_{u,k} q_{i,k}$$其中$p_{u,k}$和$q_{i,k}$是模型的参数，$p_{u,k}$度量了用户$u$的兴趣和第$k$个隐类的关系，而$q_{i,k}$度量了第$k$个隐类和物品$i$的关系。  "
   ]
  },
  {
   "cell_type": "markdown",
   "metadata": {},
   "source": [
    "在隐性反馈数据集上应用LFM解决TopN推荐的第一个关键问题就是如何给每个用户生成负样本。遵循的原则如下：\n",
    "1. 对每个用户，要保证正负样本的平衡（数目相似）\n",
    "2. 对每个用户采样负样本时，要选取那些很热门，而用户却没有行为的物品。"
   ]
  },
  {
   "cell_type": "markdown",
   "metadata": {},
   "source": [
    "&emsp;&emsp;通过采样负样本得到那些热门的、但用户却没有过行为的物品，得到一个用户-物品集$K=\\{(u, i)\\}$，其中如果$(u, i)$是正样本，则有$r_{ui}=1$，否则有$r_{ui}=0$，之后优化损失函数求最合适的参数$p$和$q$：$$C=\\sum_{(u,i) \\in K} (r_{ui} - \\hat{r}_{ui})^2 = \\sum_{(u,i)\\in K} \\left( r_{ui} - \\sum_{k=1}^K p_{u,k} q_{i,k} \\right)^2 + \\lambda \\|p_u\\|^2 + \\lambda \\|q_i\\|^2$$采用梯度下降法，求偏导可得：$$\\frac{\\partial C}{\\partial p_{uk}} = -2 q_{ik} \\cdot e_{ui} + 2 \\lambda p_{uk} \\\\ \\frac{\\partial C}{\\partial q_{ik}} = -2p_{uk} \\cdot e_{ui} + 2 \\lambda q_{ik}$$参数需要沿着最速下降方向向前推进，可得：$$p'_{uk} = p_{uk} + \\alpha (q_{ik} \\cdot e_{ui} - \\lambda p_{uk}) \\\\ q'_{ik} = q_{ik} + \\alpha(p_{uk} \\cdot e_{ui} - \\lambda q_{ik})$$其中$\\alpha$是学习速率(learning rate)。"
   ]
  },
  {
   "cell_type": "markdown",
   "metadata": {},
   "source": [
    "### 基于LFM的实际系统的例子（雅虎）\n",
    "&emsp;&emsp;LFM的每次训练都很耗时，一般在实际应用中只能每天训练一次，并且计算出所有用户的推荐系统，从而LFM模型不能因为用户行为的变化，实时地调整推荐结果来满足用户最近的行为。  \n",
    "解决方案：\n",
    "1. 利用新闻链接的内容属性（关键词、类别等）得到链接$i$的内容特征向量$y_i$。\n",
    "2. 实时收集用户对链接的行为，并且用这些数据得到链接$i$的隐特征向量$q_i$。\n",
    "\n",
    "通过如下公式预测用户$u$是否会点击链接$i$：$$r_{ui}=x_u^T \\cdot y_i + p_u^T \\cdot q_i$$其中，$y_i$是根据物品内容的属性直接生成的，$x_{uk}$是用户$u$对内容特征$k$的兴趣程度，用户向量$x_u$可以根据历史行为记录获得，而且每天只需要计算一次。$p_u$、$q_i$是根据实时拿到的用户最近几个小时的行为训练LFM获得的。"
   ]
  },
  {
   "cell_type": "markdown",
   "metadata": {},
   "source": [
    "### LFM与基于邻域的方法比较\n",
    "\n",
    "1. 理论基础  \n",
    "LFM是一种学习方法，通过优化一个设定的指标建立最优的模型，基于邻域的方法是一种基于统计的方法，没有学习过程（即模型训练过程）\n",
    "2. 离线计算的空间复杂度  \n",
    "假设有M个用户和N个物品，基于邻域的方法需要维护一张离线的相关表，用户相关表需要的空间是$O(M*M)$，物品相关表需要的空间是$O(N*N)$，而LFM在建模过程中，如果有F个隐类，需要的空间是$O(F*(M+N))$\n",
    "3. 离线计算的时间复杂度  \n",
    "假设有M个用户、N个物品、K条用户对物品的行为记录。UserCF计算用户关系表的时间复杂度是$O(N*(K/N)^2)$，ItemCF算法计算物品相关表的时间复杂度是$O(M*(K/M)^2)$，对于LMF，如果有F个隐类，迭代S次（即epochs=S），计算复杂度是$O(K*F*S)$\n",
    "4. 在线实时推荐  \n",
    "UserCF和ItemCF在线服务算法需要将相关表缓存在内存中，可以在线进行实时预测。LFM在给用户生成推荐列表时，需要计算用户对所有物品的兴趣权重，然后排名，返回权重最大的N个物品，时间复杂度是$O(M*N*F)$，LFM不太适合用于物品数非常庞大的系统\n",
    "5. 推荐解释  \n",
    "ItemCF算法支持很好的推荐解释，利用用户的历史行为解释推荐结果，但LFM无法提供这样的解释"
   ]
  },
  {
   "cell_type": "markdown",
   "metadata": {},
   "source": [
    "## 基于图的模型\n",
    "\n",
    "### 基于图的推荐算法\n",
    "\n",
    "将用户行为表示为二分图模型后，在该二分图上给用户进行个性化推荐。图中顶点的相关性主要取决于3个因素：\n",
    "1. 两个顶点之间的路径数\n",
    "2. 两个顶点之间的路径长度\n",
    "3. 两个顶点之间的路径经过的顶点。\n",
    "\n",
    "相关性高的一对顶点具有的特征：\n",
    "1. 两个顶点之间有很多路径相连\n",
    "2. 连接两个顶点之间的路径长度都比较短\n",
    "3. 连接两个顶点之间的路径不会经过出度比较大的顶点"
   ]
  },
  {
   "cell_type": "markdown",
   "metadata": {},
   "source": [
    "### PersionalRank算法\n",
    "\n",
    "1. 从用户u对应的节点$v_u$开始在用户物品二分图上进行随机游走\n",
    "2. 游走到任何一个节点时，按照概率$\\alpha$是继续游走，还是停止本次游走并从$v_u$节点开始重新游走\n",
    "3. 如果继续游走，那么就从当前节点指向的下一个节点按照均匀分布随机选择一个节点，作为游走的下一个节点\n",
    "4. 经过很多次随机游走，每个物品节点被访问到的概率会收敛\n",
    "5. 最终的推荐列表中，物品的权重就是物品节点的访问概率\n",
    "\n",
    "概率公式：$$PR(v)=\\left \\{ \\begin{array}{cc}\n",
    "\\displaystyle \\alpha \\sum_{v' \\in in(v)} \\frac{PR(v')}{|out(v')|} \\quad (v \\neq v_u) \\\\\n",
    "\\displaystyle (1-\\alpha) + \\alpha \\sum_{v' \\in in(v)} \\frac{PR(v')}{|out(v')|} \\quad (v = v_u)\n",
    "\\end{array} \\right .$$"
   ]
  },
  {
   "cell_type": "code",
   "execution_count": 1,
   "metadata": {},
   "outputs": [],
   "source": [
    "from operator import itemgetter\n",
    "\n",
    "def PersonalRank(G, alpha, root, max_step):\n",
    "    rank = {x: 0 for x in G.keys()}\n",
    "    rank[root] = 1\n",
    "    # 开始迭代\n",
    "    for k in range(max_step):\n",
    "        tmp = {x: 0 for x in G.keys()}\n",
    "        # 取节点i和它的出边尾节点集合ri\n",
    "        for i, ri in G.items():\n",
    "            # 取节点i的出边的尾节点j以及边E(i,j)的权重wij, 边的权重都为1，归一化之后就上1/len(ri)\n",
    "            for j, wij in ri.items():\n",
    "                # i是j的其中一条入边的首节点，因此需要遍历图找到j的入边的首节点，\n",
    "                # 这个遍历过程就是此处的2层for循环，一次遍历就是一次游走\n",
    "                tmp[j] += alpha * rank[i] / (1.0 * len(ri))\n",
    "        # 我们每次游走都是从root节点出发，因此root节点的权重需要加上(1 - alpha)\n",
    "        tmp[root] += (1 - alpha)\n",
    "        rank = tmp\n",
    "\n",
    "    return sorted(rank.items(), key=itemgetter(1), reverse=True)"
   ]
  },
  {
   "cell_type": "code",
   "execution_count": 3,
   "metadata": {},
   "outputs": [
    {
     "name": "stdout",
     "output_type": "stream",
     "text": [
      "A:0.314 \t\n",
      "c:0.189 \t\n",
      "B:0.166 \t\n",
      "a:0.159 \t\n",
      "C:0.076 \t\n",
      "d:0.063 \t\n",
      "b:0.033 \t\n"
     ]
    }
   ],
   "source": [
    "alpha = 0.8\n",
    "G = {'A': {'a': 1, 'c': 1},\n",
    "     'B': {'a': 1, 'b': 1, 'c': 1, 'd': 1},\n",
    "     'C': {'c': 1, 'd': 1},\n",
    "     'a': {'A': 1, 'B': 1},\n",
    "     'b': {'B': 1},\n",
    "     'c': {'A': 1, 'B': 1, 'C': 1},\n",
    "     'd': {'B': 1, 'C': 1}}\n",
    "\n",
    "rank = PersonalRank(G, alpha, 'A', 50)  # 从'b'节点开始游走\n",
    "\n",
    "for ele in rank:\n",
    "    print(\"%s:%.3f \\t\" % (ele[0], ele[1]))"
   ]
  }
 ],
 "metadata": {
  "kernelspec": {
   "display_name": "Python 3",
   "language": "python",
   "name": "python3"
  },
  "language_info": {
   "codemirror_mode": {
    "name": "ipython",
    "version": 3
   },
   "file_extension": ".py",
   "mimetype": "text/x-python",
   "name": "python",
   "nbconvert_exporter": "python",
   "pygments_lexer": "ipython3",
   "version": "3.7.2"
  },
  "toc": {
   "base_numbering": "2",
   "nav_menu": {},
   "number_sections": true,
   "sideBar": true,
   "skip_h1_title": false,
   "title_cell": "Table of Contents",
   "title_sidebar": "Contents",
   "toc_cell": false,
   "toc_position": {
    "height": "calc(100% - 180px)",
    "left": "10px",
    "top": "150px",
    "width": "273.188px"
   },
   "toc_section_display": true,
   "toc_window_display": false
  }
 },
 "nbformat": 4,
 "nbformat_minor": 1
}
