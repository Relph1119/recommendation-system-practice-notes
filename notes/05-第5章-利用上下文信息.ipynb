{
 "cells": [
  {
   "cell_type": "markdown",
   "metadata": {
    "collapsed": true
   },
   "source": [
    "# 第5章 利用上下文信息\n",
    "\n",
    "## 时间上下文信息\n",
    "\n",
    "### 时间效应简介\n",
    "\n",
    "时间信息对用户兴趣的影响表现在以下几个方面：\n",
    "- **用户兴趣是变化的：**年龄的增长、工作年限的增加，如果要准确预测用户现在的兴趣，就应该关注用户最近的行为，因为用户最近的行为最能体现他现在的兴趣。\n",
    "- **物品也是有生命周期的：**电影（物品）上映的时间，也可能受新闻事件的影响，当决定在某个时刻给某个用户推荐某个物品时，需要考虑该物品在该时刻是否已经过时了。\n",
    "- **季节效应：**季节效应主要反应了时间本身对用户兴趣的影响，节日也是一种季节效应。\n",
    "\n",
    "### 系统时间特性的分析\n",
    "包含时间信息的用户行为数据集由一系列三元组构成，其中每个三元组$(u,i,t)$代表了用户$u$在时刻$t$对物品$i$产生过行为。\n",
    "通过统计如下信息研究系统的时间特性：\n",
    "- 数据集每天独立用户数的增长情况\n",
    "- 系统的物品变化情况\n",
    "- 用户访问情况"
   ]
  },
  {
   "cell_type": "code",
   "execution_count": 1,
   "metadata": {},
   "outputs": [],
   "source": [
    "import os, sys\n",
    "import pandas as pd\n",
    "import numpy as np\n",
    "import matplotlib.pyplot as plt\n",
    "import seaborn as sns\n",
    "%matplotlib inline\n",
    "\n",
    "PROJECT_ROOT = os.path.dirname(sys.path[0])"
   ]
  },
  {
   "cell_type": "code",
   "execution_count": 2,
   "metadata": {},
   "outputs": [
    {
     "data": {
      "text/html": [
       "<div>\n",
       "<style scoped>\n",
       "    .dataframe tbody tr th:only-of-type {\n",
       "        vertical-align: middle;\n",
       "    }\n",
       "\n",
       "    .dataframe tbody tr th {\n",
       "        vertical-align: top;\n",
       "    }\n",
       "\n",
       "    .dataframe thead th {\n",
       "        text-align: right;\n",
       "    }\n",
       "</style>\n",
       "<table border=\"1\" class=\"dataframe\">\n",
       "  <thead>\n",
       "    <tr style=\"text-align: right;\">\n",
       "      <th></th>\n",
       "      <th>userID</th>\n",
       "      <th>bookmarkID</th>\n",
       "      <th>tagID</th>\n",
       "      <th>urlPrincipal</th>\n",
       "      <th>timestamp</th>\n",
       "    </tr>\n",
       "  </thead>\n",
       "  <tbody>\n",
       "    <tr>\n",
       "      <th>0</th>\n",
       "      <td>8</td>\n",
       "      <td>1</td>\n",
       "      <td>1</td>\n",
       "      <td>www.ifla.org</td>\n",
       "      <td>1289255362000</td>\n",
       "    </tr>\n",
       "    <tr>\n",
       "      <th>1</th>\n",
       "      <td>8</td>\n",
       "      <td>2</td>\n",
       "      <td>1</td>\n",
       "      <td>archive.ifla.org</td>\n",
       "      <td>1289255159000</td>\n",
       "    </tr>\n",
       "    <tr>\n",
       "      <th>2</th>\n",
       "      <td>8</td>\n",
       "      <td>7</td>\n",
       "      <td>1</td>\n",
       "      <td>www.edselect.com</td>\n",
       "      <td>1289238901000</td>\n",
       "    </tr>\n",
       "    <tr>\n",
       "      <th>3</th>\n",
       "      <td>8</td>\n",
       "      <td>7</td>\n",
       "      <td>6</td>\n",
       "      <td>www.edselect.com</td>\n",
       "      <td>1289238901000</td>\n",
       "    </tr>\n",
       "    <tr>\n",
       "      <th>4</th>\n",
       "      <td>8</td>\n",
       "      <td>7</td>\n",
       "      <td>7</td>\n",
       "      <td>www.edselect.com</td>\n",
       "      <td>1289238901000</td>\n",
       "    </tr>\n",
       "  </tbody>\n",
       "</table>\n",
       "</div>"
      ],
      "text/plain": [
       "   userID  bookmarkID  tagID      urlPrincipal      timestamp\n",
       "0       8           1      1      www.ifla.org  1289255362000\n",
       "1       8           2      1  archive.ifla.org  1289255159000\n",
       "2       8           7      1  www.edselect.com  1289238901000\n",
       "3       8           7      6  www.edselect.com  1289238901000\n",
       "4       8           7      7  www.edselect.com  1289238901000"
      ]
     },
     "execution_count": 2,
     "metadata": {},
     "output_type": "execute_result"
    }
   ],
   "source": [
    "user_bookmark_path = os.path.join(PROJECT_ROOT, \"src/data/delicious-2k/user_taggedbookmarks-timestamps.dat\")\n",
    "bookmarks_path = os.path.join(PROJECT_ROOT, \"src/data/delicious-2k/bookmarks.dat\")\n",
    "user_bookmark_dataset = pd.read_table(user_bookmark_path, sep='\\t', engine='python')\n",
    "bookmarks_dataset = pd.read_table(bookmarks_path, sep='\\t', engine='python')\n",
    "\n",
    "bookmarks_dataset.rename(columns={'id':'bookmarkID'},inplace=True)\n",
    "dataset = pd.merge(user_bookmark_dataset, bookmarks_dataset, how='left', on=['bookmarkID'])\n",
    "dataset = dataset[['userID', 'bookmarkID', 'tagID', 'urlPrincipal', 'timestamp']]\n",
    "\n",
    "dataset.head()"
   ]
  },
  {
   "cell_type": "code",
   "execution_count": 4,
   "metadata": {},
   "outputs": [
    {
     "data": {
      "text/html": [
       "<div>\n",
       "<style scoped>\n",
       "    .dataframe tbody tr th:only-of-type {\n",
       "        vertical-align: middle;\n",
       "    }\n",
       "\n",
       "    .dataframe tbody tr th {\n",
       "        vertical-align: top;\n",
       "    }\n",
       "\n",
       "    .dataframe thead th {\n",
       "        text-align: right;\n",
       "    }\n",
       "</style>\n",
       "<table border=\"1\" class=\"dataframe\">\n",
       "  <thead>\n",
       "    <tr style=\"text-align: right;\">\n",
       "      <th></th>\n",
       "      <th>user_total</th>\n",
       "      <th>item_total</th>\n",
       "    </tr>\n",
       "  </thead>\n",
       "  <tbody>\n",
       "    <tr>\n",
       "      <th>nytimes</th>\n",
       "      <td>546</td>\n",
       "      <td>877</td>\n",
       "    </tr>\n",
       "    <tr>\n",
       "      <th>youtube</th>\n",
       "      <td>711</td>\n",
       "      <td>1072</td>\n",
       "    </tr>\n",
       "    <tr>\n",
       "      <th>wikipedia</th>\n",
       "      <td>0</td>\n",
       "      <td>0</td>\n",
       "    </tr>\n",
       "    <tr>\n",
       "      <th>sourceforge</th>\n",
       "      <td>0</td>\n",
       "      <td>0</td>\n",
       "    </tr>\n",
       "    <tr>\n",
       "      <th>blogspot</th>\n",
       "      <td>989</td>\n",
       "      <td>1459</td>\n",
       "    </tr>\n",
       "  </tbody>\n",
       "</table>\n",
       "</div>"
      ],
      "text/plain": [
       "             user_total  item_total\n",
       "nytimes             546         877\n",
       "youtube             711        1072\n",
       "wikipedia             0           0\n",
       "sourceforge           0           0\n",
       "blogspot            989        1459"
      ]
     },
     "execution_count": 4,
     "metadata": {},
     "output_type": "execute_result"
    }
   ],
   "source": [
    "def delete_tag_id(dataset, site_name):\n",
    "    return dataset[dataset['urlPrincipal'].str.find(site_name) != -1].drop(labels=['urlPrincipal', 'tagID'],axis=1).drop_duplicates()\n",
    "\n",
    "nytimes_dataset = delete_tag_id(dataset, 'nytimes.com')\n",
    "youtube_dataset = delete_tag_id(dataset, 'youtube.com')\n",
    "wikipedia_dataset = delete_tag_id(dataset, 'wikipedia.com')\n",
    "sourceforge_dataset = delete_tag_id(dataset, 'sourceforge.com')\n",
    "blogspot_dataset = delete_tag_id(dataset, 'blogspot.com')\n",
    "\n",
    "dataset_describe = []\n",
    "dataset_describe.append((nytimes_dataset['userID'].nunique(), nytimes_dataset['bookmarkID'].nunique()))\n",
    "dataset_describe.append((youtube_dataset['userID'].nunique(), youtube_dataset['bookmarkID'].nunique()))\n",
    "dataset_describe.append((wikipedia_dataset['userID'].nunique(), wikipedia_dataset['bookmarkID'].nunique()))\n",
    "dataset_describe.append((sourceforge_dataset['userID'].nunique(), sourceforge_dataset['bookmarkID'].nunique()))\n",
    "dataset_describe.append((blogspot_dataset['userID'].nunique(), blogspot_dataset['bookmarkID'].nunique()))\n",
    "\n",
    "pd.DataFrame(\n",
    "        data = dataset_describe,\n",
    "        index = ['nytimes', 'youtube', 'wikipedia', 'sourceforge', 'blogspot'],\n",
    "        columns = [\"user_total\",\"item_total\"]\n",
    ")"
   ]
  },
  {
   "cell_type": "markdown",
   "metadata": {},
   "source": [
    "### 推荐系统的实时性\n",
    "\n",
    "1. 实时推荐系统不能每天都给所有用户离线计算推荐结果，然后在线展示昨天计算出来的结果，所以，要求在每个用户访问推荐系统时，都根据用户这个时间点钱的行为**实时计算**推荐列表。\n",
    "2. 推荐算法需要平衡考虑用户的近期行为和长期行为，既要让推荐列表反应出用户经期行为所体现的兴趣，又不能让推荐列表完全受用户近期行为的影响，要保证推荐列表对用户兴趣预测的**延续性**。"
   ]
  },
  {
   "cell_type": "markdown",
   "metadata": {},
   "source": [
    "### 推荐算法的时间多样性\n",
    "\n",
    "时间多样性：推荐系统每天推荐结果的变化程度。时间多样性高的推荐系统中，用户会经常看到不同的推荐结果。\n",
    "\n",
    "**问题：**如何在不损失精度的情况下，提高推荐结果的时间多样性。  \n",
    "提高推荐结果时间多样性需要分两步：  \n",
    "1. 需要保证推荐系统能够在用户有了新的行为后，及时调整推荐结果。\n",
    "2. 需要保证推荐系统在用户没有新的行为时，也能够经常变化一下结果。\n",
    "\n",
    "解决如果用户没有行为，如何保证给用户的推荐结果具有一定的时间多样性：  \n",
    "1. 在生成推荐结果时，加入一定的随机性。\n",
    "2. 记录用户每天看到的推荐结果，然后在每天给用户进行推荐时，对他前几天看到过很多次的推荐结果进行适当地降权。\n",
    "3. 每天给用户使用不同的推荐算法。"
   ]
  },
  {
   "cell_type": "markdown",
   "metadata": {},
   "source": [
    "### 时间上下文推荐算法\n",
    "\n",
    "#### 最近最热门\n",
    "\n",
    "给定时间$T$、物品$i$最近的流行度$n_i(T)$定义为：$$n_i(T)=\\sum_{(u,i,t) \\in \\text{Train}, t < T} \\frac{1}{1 + \\alpha(T-t)}$$其中，$\\alpha$是时间衰减参数。"
   ]
  },
  {
   "cell_type": "code",
   "execution_count": 5,
   "metadata": {},
   "outputs": [],
   "source": [
    "from main.util import delicious_reader\n",
    "\n",
    "train_dataset, test_dataset = delicious_reader.load_data(bookmarks_path, user_bookmark_path, \"nytimes.com\")"
   ]
  },
  {
   "cell_type": "code",
   "execution_count": null,
   "metadata": {},
   "outputs": [],
   "source": [
    "from main.chapter5.recent_popularity import RecentPopular\n",
    "\n",
    "model = RecentPopular(train_dataset, )"
   ]
  }
 ],
 "metadata": {
  "kernelspec": {
   "display_name": "Python 3",
   "language": "python",
   "name": "python3"
  },
  "language_info": {
   "codemirror_mode": {
    "name": "ipython",
    "version": 3
   },
   "file_extension": ".py",
   "mimetype": "text/x-python",
   "name": "python",
   "nbconvert_exporter": "python",
   "pygments_lexer": "ipython3",
   "version": "3.7.2"
  },
  "toc": {
   "base_numbering": "5",
   "nav_menu": {},
   "number_sections": true,
   "sideBar": true,
   "skip_h1_title": false,
   "title_cell": "Table of Contents",
   "title_sidebar": "Contents",
   "toc_cell": false,
   "toc_position": {},
   "toc_section_display": true,
   "toc_window_display": false
  }
 },
 "nbformat": 4,
 "nbformat_minor": 1
}
